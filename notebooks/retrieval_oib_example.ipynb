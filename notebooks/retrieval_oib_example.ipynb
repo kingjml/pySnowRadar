{
 "cells": [
  {
   "cell_type": "markdown",
   "metadata": {},
   "source": [
    "# Operation IceBridge SnowRadar (2-8 GHz) Example\n",
    "\n",
    "Example of using wavelet picker with CRESIS 2-8 GHz snow radar data (MATFILE)"
   ]
  },
  {
   "cell_type": "code",
   "execution_count": null,
   "metadata": {},
   "outputs": [],
   "source": [
    "#pySnowRadar modules\n",
    "from pySnowRadar import SnowRadar\n",
    "from pySnowRadar.processing import extract_layers\n",
    "from pySnowRadar.algorithms import Wavelet_TN, Peakiness\n",
    "\n",
    "#Community packages\n",
    "import os\n",
    "import datetime\n",
    "import time\n",
    "import numpy as np\n",
    "import matplotlib.pyplot as plt"
   ]
  },
  {
   "cell_type": "code",
   "execution_count": null,
   "metadata": {},
   "outputs": [],
   "source": [
    "radar_file = \"../pySnowRadar/data/sr/Data_20160419_04_010.mat\"\n",
    "radar_dat = SnowRadar(radar_file, l_case='full')"
   ]
  },
  {
   "cell_type": "code",
   "execution_count": null,
   "metadata": {},
   "outputs": [],
   "source": [
    "# Find surface and trim data\n",
    "radar_dat.surf_bin, radar_dat.surface = radar_dat.get_surface()\n",
    "radar_bounds = radar_dat.get_bounds(2,1)\n",
    "radar_dat.plot_quicklook(ylim = list(radar_bounds))"
   ]
  },
  {
   "cell_type": "markdown",
   "metadata": {},
   "source": [
    "## Application of wavelet picker"
   ]
  },
  {
   "cell_type": "code",
   "execution_count": null,
   "metadata": {},
   "outputs": [],
   "source": [
    "# Set up picker parameters and extract interfaces using the Newman wavelet\n",
    "params={'snow_density':0.3,\n",
    "        'ref_snow_layer': 1,\n",
    "        'cwt_precision': 10}\n",
    "\n",
    "res_TN = extract_layers(radar_file, picker=Wavelet_TN, params=params, dump_results=False)"
   ]
  },
  {
   "cell_type": "code",
   "execution_count": null,
   "metadata": {},
   "outputs": [],
   "source": [
    "# Plot interface picks and snow depth\n",
    "fig, (ax1, ax2) = plt.subplots(nrows=2, figsize=(10,8), sharex=True)\n",
    "ax1.imshow(10 * np.log10(radar_dat.data_radar/np.nanmax(radar_dat.data_radar)), interpolation='none', cmap=\"gist_gray\",  aspect='auto')\n",
    "ax1.plot(res_TN['b_as'], linestyle='--', color='b',alpha=0.9,label='A-S')\n",
    "ax1.plot(res_TN['b_si'], linestyle='--', color='r',alpha=0.9,label='S-I')\n",
    "ax1.legend(loc=\"upper right\")\n",
    "\n",
    "\n",
    "# Rolling average of depth over 5 bins\n",
    "N = 5\n",
    "snow_depth_rolling = np.convolve(res_TN['snow_depth'], np.ones((N,))/N, mode='valid')\n",
    "estart = N/2\n",
    "eend = len(snow_depth_rolling)+(N/2)\n",
    "\n",
    "ax2.scatter(np.arange(0,len(res_TN['snow_depth'])), res_TN['snow_depth'], color = 'k', s = 1)\n",
    "ax2.plot(np.arange(estart, eend),snow_depth_rolling, color='r')\n",
    "\n",
    "\n",
    "ax1.set_ylim(radar_bounds)\n",
    "ax2.set_xlim(0, len(res_TN['snow_depth']))\n",
    "ax1.set_ylabel(\"Range bin [-]\")\n",
    "ax2.set_ylabel(\"Snow depth (m)\")\n",
    "ax2.set_xlabel(\"Radar trace [-]\")"
   ]
  },
  {
   "cell_type": "code",
   "execution_count": null,
   "metadata": {},
   "outputs": [],
   "source": [
    "col_idx = np.random.randint(0,radar_dat.data_radar.shape[1])\n",
    "fig, ax = plt.subplots(figsize=(14,5))\n",
    "with np.errstate(divide='ignore'):\n",
    "    ax.plot(10*np.log10(radar_dat.data_radar[:,col_idx]), color = 'k', label=None)\n",
    "\n",
    "\n",
    "    \n",
    "# Air-Snow picked interface\n",
    "ax.vlines(res_TN['b_as'][col_idx], 0, 1, label='A-S', linestyles='dashed', transform=ax.get_xaxis_transform(), color='r')\n",
    "# Snow-Ice picked interface\n",
    "ax.vlines(res_TN['b_si'][col_idx], 0, 1, label='A-S', linestyles='dashed', transform=ax.get_xaxis_transform(), color='b')\n",
    "\n",
    "ax.set_xlim(0, len(radar_dat.data_radar[:,col_idx]))\n",
    "ax.set_xlabel(\"Fast time bin\")\n",
    "ax.set_ylabel(\"Amplidtude (dB)\")\n",
    "ax.legend(loc=\"upper right\")"
   ]
  }
 ],
 "metadata": {
  "kernelspec": {
   "display_name": "Python 3",
   "language": "python",
   "name": "python3"
  },
  "language_info": {
   "codemirror_mode": {
    "name": "ipython",
    "version": 3
   },
   "file_extension": ".py",
   "mimetype": "text/x-python",
   "name": "python",
   "nbconvert_exporter": "python",
   "pygments_lexer": "ipython3",
   "version": "3.7.3"
  }
 },
 "nbformat": 4,
 "nbformat_minor": 2
}
