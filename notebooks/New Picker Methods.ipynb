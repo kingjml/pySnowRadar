{
 "cells": [
  {
   "cell_type": "code",
   "execution_count": 1,
   "metadata": {},
   "outputs": [],
   "source": [
    "from pySnowRadar.processing import geo_filter, batch_process\n",
    "from glob import glob\n",
    "import matplotlib.pyplot as plt\n",
    "import pandas as pd\n",
    "import numpy as np\n",
    "from pySnowRadar.qc import error_check\n",
    "from pySnowRadar import SnowRadar\n",
    "from pySnowRadar.processing import extract_layers, geo_filter, calc_snr\n",
    "from pySnowRadar.geofunc import haversine\n",
    "\n",
    "import geopandas as gpd\n",
    "from shapely.geometry import Point, Polygon"
   ]
  },
  {
   "cell_type": "code",
   "execution_count": 2,
   "metadata": {},
   "outputs": [],
   "source": [
    "def plot_retreival(sr, res, ylim=None):\n",
    "    '''\n",
    "    Generic plotting function to visualize the radar data for the \n",
    "    current SnowRadar object instance\n",
    "\n",
    "    Arguments:\n",
    "        ylim: customize the upper bound of the plot\n",
    "    '''\n",
    "    with np.errstate(divide='ignore', invalid='ignore'):\n",
    "            radar_sub = 10 * np.log10(sr.data_radar)\n",
    "            \n",
    "    fig, (ax1, ax2) = plt.subplots(nrows=2, figsize=(9,7), sharex=True)\n",
    "    #fig, ax = plt.subplots(figsize=(9,7))\n",
    "    im = ax1.imshow(radar_sub, cmap='gist_gray')\n",
    "    \n",
    "    ax1.scatter(res.index.astype(int), \n",
    "                res['b_ref'] + res['b_as'], \n",
    "                color='b',\n",
    "                s = 1,\n",
    "                label = 'A-S')\n",
    "    \n",
    "    ax1.scatter(res.index.astype(int), \n",
    "                res['b_ref'] + res['b_si'], \n",
    "                color='r',\n",
    "                s = 1,\n",
    "                label = 'S-I')\n",
    "    \n",
    "    ax1.set_title(\n",
    "        f'{sr.file_name} ({sr.data_type})',\n",
    "        fontdict={'size':'x-large'}\n",
    "        )\n",
    "    if ylim:\n",
    "        ax1.set_ylim(ylim)\n",
    "    \n",
    "    ax1.set_xlim(0, sr.data_radar.shape[1])\n",
    "    ax1.set_aspect('auto')\n",
    "    \n",
    "    ax2.scatter(res.index.astype(int), \n",
    "                res.snow_depth,\n",
    "                s = 1,\n",
    "                color = 'k')\n",
    "    \n",
    "    #fig.colorbar(im, ax=ax1)\n",
    "    fig.tight_layout()\n",
    "    plt.show()"
   ]
  },
  {
   "cell_type": "code",
   "execution_count": 3,
   "metadata": {},
   "outputs": [
    {
     "data": {
      "text/plain": [
       "(array([3.0428e+04, 1.9030e+04, 3.2140e+03, 9.5300e+02, 3.2000e+02,\n",
       "        1.1800e+02, 4.7000e+01, 4.0000e+00, 4.0000e+00, 7.0000e+00]),\n",
       " array([-1.0000e-01,  1.9910e+01,  3.9920e+01,  5.9930e+01,  7.9940e+01,\n",
       "         9.9950e+01,  1.1996e+02,  1.3997e+02,  1.5998e+02,  1.7999e+02,\n",
       "         2.0000e+02]),\n",
       " <a list of 10 Patch objects>)"
      ]
     },
     "execution_count": 3,
     "metadata": {},
     "output_type": "execute_result"
    },
    {
     "data": {
      "image/png": "[encoded data removed]",
      "text/plain": [
       "<Figure size 432x288 with 1 Axes>"
      ]
     },
     "metadata": {
      "needs_background": "light"
     },
     "output_type": "display_data"
    }
   ],
   "source": [
    "# Load the reference snow data for Eureka\n",
    "mp_df = pd.read_csv('../pySnowRadar/data/field/eureka_2016_mp.csv')\n",
    "mp_df.head()\n",
    "mp_df['geometry'] = mp_df.apply(lambda row: Point(row.Longitude, row.Latitude), axis=1)\n",
    "\n",
    "mp_gdf = gpd.GeoDataFrame(mp_df, geometry=mp_df.geometry)\n",
    "mp_gdf.crs = {'init' :'epsg:4326'}\n",
    "mp_gdf = mp_gdf.to_crs({'init':'epsg:32616'})\n",
    "\n",
    "plt.hist(mp_gdf.DepthCm)"
   ]
  },
  {
   "cell_type": "code",
   "execution_count": 4,
   "metadata": {},
   "outputs": [
    {
     "name": "stdout",
     "output_type": "stream",
     "text": [
      "Loading: Data_20160419_04_001.mat (meta)\n",
      "Loading: Data_20160419_04_002.mat (meta)\n",
      "Loading: Data_20160419_04_003.mat (meta)\n",
      "Loading: Data_20160419_04_004.mat (meta)\n",
      "Loading: Data_20160419_04_005.mat (meta)\n",
      "Loading: Data_20160419_04_006.mat (meta)\n",
      "Loading: Data_20160419_04_007.mat (meta)\n",
      "Loading: Data_20160419_04_008.mat (meta)\n",
      "Loading: Data_20160419_04_009.mat (meta)\n",
      "Loading: Data_20160419_04_010.mat (meta)\n",
      "Loading: Data_20160419_04_011.mat (meta)\n",
      "Loading: Data_20160419_04_012.mat (meta)\n",
      "Loading: Data_20160419_04_013.mat (meta)\n",
      "Loading: Data_20160419_04_014.mat (meta)\n",
      "Loading: Data_20160419_04_015.mat (meta)\n",
      "Loading: Data_20160419_04_016.mat (meta)\n",
      "Loading: Data_20160419_04_017.mat (meta)\n",
      "Loading: Data_20160419_04_018.mat (meta)\n",
      "Loading: Data_20160419_04_019.mat (meta)\n",
      "Loading: Data_20160419_04_020.mat (meta)\n",
      "Loading: Data_20160419_04_021.mat (meta)\n",
      "Loading: Data_20160419_04_022.mat (meta)\n",
      "Loading: Data_20160419_04_023.mat (meta)\n",
      "Loading: Data_20160419_04_024.mat (meta)\n",
      "Loading: Data_20160419_04_025.mat (meta)\n",
      "Loading: Data_20160419_04_026.mat (meta)\n",
      "Loading: Data_20160419_04_027.mat (meta)\n",
      "Loading: Data_20160419_04_028.mat (meta)\n",
      "Loading: Data_20160419_04_029.mat (meta)\n",
      "Loading: Data_20160419_04_030.mat (meta)\n",
      "Loading: Data_20160419_04_031.mat (meta)\n",
      "Loading: Data_20160419_04_032.mat (meta)\n",
      "Loading: Data_20160419_04_033.mat (meta)\n",
      "Loading: Data_20160419_04_034.mat (meta)\n",
      "Loading: Data_20160419_04_035.mat (meta)\n",
      "Loading: Data_20160419_04_036.mat (meta)\n",
      "Loading: Data_20160419_04_037.mat (meta)\n",
      "Loading: Data_20160419_04_038.mat (meta)\n",
      "Loading: Data_20160419_04_039.mat (meta)\n",
      "Loading: Data_20160419_04_043.mat (meta)\n",
      "Loading: Data_20160419_04_044.mat (meta)\n",
      "Loading: Data_20160419_04_045.mat (meta)\n",
      "Loading: Data_20160419_04_046.mat (meta)\n",
      "Loading: Data_20160419_04_047.mat (meta)\n",
      "Loading: Data_20160419_04_048.mat (meta)\n",
      "Loading: Data_20160419_04_049.mat (meta)\n",
      "Loading: Data_20160419_04_050.mat (meta)\n",
      "Loading: Data_20160419_04_051.mat (meta)\n",
      "Loading: Data_20160419_04_052.mat (meta)\n",
      "Loading: Data_20160419_04_053.mat (meta)\n",
      "Loading: Data_20160419_04_054.mat (meta)\n",
      "Loading: Data_20160419_04_055.mat (meta)\n",
      "Loading: Data_20160419_04_056.mat (meta)\n",
      "Loading: Data_20160419_04_057.mat (meta)\n",
      "Loading: Data_20160419_04_058.mat (meta)\n",
      "Loading: Data_20160419_04_059.mat (meta)\n",
      "Loading: Data_20160419_04_060.mat (meta)\n",
      "Loading: Data_20160419_04_061.mat (meta)\n",
      "Loading: Data_20160419_04_062.mat (meta)\n",
      "Loading: Data_20160419_04_063.mat (meta)\n",
      "Loading: Data_20160419_04_064.mat (meta)\n",
      "Loading: Data_20160419_04_065.mat (meta)\n",
      "Loading: Data_20160419_04_066.mat (meta)\n",
      "Loading: Data_20160419_04_067.mat (meta)\n",
      "Loading: Data_20160419_04_068.mat (meta)\n",
      "Loading: Data_20160419_04_069.mat (meta)\n",
      "Loading: Data_20160419_04_070.mat (meta)\n",
      "Loading: Data_20160419_04_071.mat (meta)\n",
      "Loading: Data_20160419_04_072.mat (meta)\n",
      "Loading: Data_20160419_04_073.mat (meta)\n",
      "Loading: Data_20160419_04_074.mat (meta)\n",
      "Loading: Data_20160419_04_075.mat (meta)\n",
      "Loading: Data_20160419_04_076.mat (meta)\n",
      "Loading: Data_20160419_04_077.mat (meta)\n",
      "Loading: Data_20160419_04_078.mat (meta)\n",
      "Loading: Data_20160419_04_079.mat (meta)\n",
      "Loading: Data_20160419_04_080.mat (meta)\n",
      "Loading: Data_20160419_04_081.mat (meta)\n",
      "Loading: Data_20160419_04_082.mat (meta)\n",
      "Loading: Data_20160419_04_083.mat (meta)\n",
      "Loading: Data_20160419_04_084.mat (meta)\n",
      "Loading: Data_20160419_04_085.mat (meta)\n",
      "Loading: Data_20160419_04_086.mat (meta)\n",
      "Loading: Data_20160419_04_087.mat (meta)\n",
      "Loading: Data_20160419_04_088.mat (meta)\n",
      "Loading: Data_20160419_04_092.mat (meta)\n",
      "Loading: Data_20160419_04_093.mat (meta)\n",
      "Loading: Data_20160419_04_094.mat (meta)\n",
      "Loading: Data_20160419_04_095.mat (meta)\n",
      "Loading: Data_20160419_04_096.mat (meta)\n",
      "Loading: Data_20160419_04_097.mat (meta)\n",
      "Loading: Data_20160419_04_098.mat (meta)\n",
      "Loading: Data_20160419_04_099.mat (meta)\n",
      "Loading: Data_20160419_04_100.mat (meta)\n",
      "Loading: Data_20160419_04_101.mat (meta)\n",
      "Loading: Data_20160419_04_102.mat (meta)\n",
      "Loading: Data_20160419_04_103.mat (meta)\n",
      "Loading: Data_20160419_04_104.mat (meta)\n",
      "Loading: Data_20160419_04_105.mat (meta)\n",
      "Loading: Data_20160419_04_106.mat (meta)\n",
      "Loading: Data_20160419_04_107.mat (meta)\n",
      "Loading: Data_20160419_04_108.mat (meta)\n",
      "Loading: Data_20160419_04_109.mat (meta)\n",
      "Loading: Data_20160419_04_110.mat (meta)\n",
      "Loading: Data_20160419_04_111.mat (meta)\n",
      "Loading: Data_20160419_04_112.mat (meta)\n",
      "Loading: Data_20160419_04_113.mat (meta)\n",
      "Loading: Data_20160419_04_114.mat (meta)\n",
      "Loading: Data_20160419_04_115.mat (meta)\n",
      "Loading: Data_20160419_04_116.mat (meta)\n",
      "Loading: Data_20160419_04_117.mat (meta)\n",
      "Loading: Data_20160419_04_118.mat (meta)\n",
      "Loading: Data_20160419_04_119.mat (meta)\n",
      "Loading: Data_20160419_04_120.mat (meta)\n",
      "Loading: Data_20160419_04_121.mat (meta)\n",
      "Loading: Data_20160419_04_122.mat (meta)\n",
      "Loading: Data_20160419_04_123.mat (meta)\n",
      "Loading: Data_20160419_04_124.mat (meta)\n",
      "Loading: Data_20160419_04_125.mat (meta)\n",
      "Loading: Data_20160419_04_126.mat (meta)\n",
      "Loading: Data_20160419_04_127.mat (meta)\n",
      "Loading: Data_20160419_04_128.mat (meta)\n",
      "Loading: Data_20160419_04_129.mat (meta)\n",
      "Loading: Data_20160419_04_130.mat (meta)\n",
      "Loading: Data_20160419_04_131.mat (meta)\n",
      "Loading: Data_20160419_04_132.mat (meta)\n",
      "Loading: Data_20160419_04_133.mat (meta)\n",
      "Loading: Data_20160419_04_134.mat (meta)\n",
      "Loading: Data_20160419_04_135.mat (meta)\n",
      "Loading: Data_20160419_04_136.mat (meta)\n",
      "Loading: Data_20160419_04_137.mat (meta)\n",
      "Loading: Data_20160419_04_145.mat (meta)\n",
      "Loading: Data_20160419_04_146.mat (meta)\n",
      "Loading: Data_20160419_04_147.mat (meta)\n",
      "Loading: Data_20160419_04_148.mat (meta)\n",
      "Loading: Data_20160419_04_149.mat (meta)\n",
      "Loading: Data_20160419_04_150.mat (meta)\n",
      "Loading: Data_20160419_04_151.mat (meta)\n",
      "Loading: Data_20160419_04_152.mat (meta)\n",
      "Loading: Data_20160419_04_153.mat (meta)\n",
      "Loading: Data_20160419_04_154.mat (meta)\n",
      "Loading: Data_20160419_04_155.mat (meta)\n",
      "Loading: Data_20160419_04_156.mat (meta)\n",
      "Loading: Data_20160419_04_173.mat (meta)\n",
      "Loading: Data_20160419_04_174.mat (meta)\n",
      "Loading: Data_20160419_04_175.mat (meta)\n",
      "Loading: Data_20160419_04_176.mat (meta)\n",
      "Loading: Data_20160419_04_177.mat (meta)\n",
      "Loading: Data_20160419_04_178.mat (meta)\n",
      "Loading: Data_20160419_04_179.mat (meta)\n",
      "Loading: Data_20160419_04_180.mat (meta)\n",
      "Loading: Data_20160419_04_181.mat (meta)\n",
      "Loading: Data_20160419_04_182.mat (meta)\n",
      "Loading: Data_20160419_04_183.mat (meta)\n",
      "Loading: Data_20160419_04_184.mat (meta)\n",
      "Loading: Data_20160419_04_185.mat (meta)\n",
      "Loading: Data_20160419_04_186.mat (meta)\n",
      "Loading: Data_20160419_04_187.mat (meta)\n",
      "Loading: Data_20160419_04_188.mat (meta)\n",
      "Loading: Data_20160419_04_189.mat (meta)\n",
      "Loading: Data_20160419_04_190.mat (meta)\n",
      "Loading: Data_20160419_04_191.mat (meta)\n",
      "Loading: Data_20160419_04_192.mat (meta)\n",
      "Loading: Data_20160419_04_193.mat (meta)\n",
      "Loading: Data_20160419_04_194.mat (meta)\n",
      "Loading: Data_20160419_04_195.mat (meta)\n",
      "Loading: Data_20160419_04_196.mat (meta)\n",
      "Loading: Data_20160419_04_197.mat (meta)\n",
      "Loading: Data_20160419_04_198.mat (meta)\n",
      "Loading: Data_20160419_04_199.mat (meta)\n",
      "Loading: Data_20160419_04_200.mat (meta)\n",
      "Loading: Data_20160419_04_201.mat (meta)\n",
      "Loading: Data_20160419_04_202.mat (meta)\n",
      "Loading: Data_20160419_04_203.mat (meta)\n",
      "Loading: Data_20160419_04_204.mat (meta)\n",
      "Loading: Data_20160419_04_205.mat (meta)\n",
      "Loading: Data_20160419_04_206.mat (meta)\n",
      "Loading: Data_20160419_04_207.mat (meta)\n",
      "Loading: Data_20160419_04_208.mat (meta)\n",
      "Loading: Data_20160419_04_209.mat (meta)\n",
      "Loading: Data_20160419_04_210.mat (meta)\n",
      "Loading: Data_20160419_04_211.mat (meta)\n",
      "Loading: Data_20160419_04_212.mat (meta)\n",
      "Loading: Data_20160419_04_213.mat (meta)\n",
      "Loading: Data_20160419_04_214.mat (meta)\n",
      "Loading: Data_20160419_04_215.mat (meta)\n",
      "Loading: Data_20160419_04_221.mat (meta)\n",
      "Loading: Data_20160419_04_222.mat (meta)\n",
      "Loading: Data_20160419_04_223.mat (meta)\n",
      "Loading: Data_20160419_04_224.mat (meta)\n",
      "Loading: Data_20160419_04_225.mat (meta)\n",
      "Loading: Data_20160419_04_226.mat (meta)\n",
      "Loading: Data_20160419_04_227.mat (meta)\n",
      "Loading: Data_20160419_04_228.mat (meta)\n",
      "Loading: Data_20160419_04_229.mat (meta)\n",
      "Loading: Data_20160419_04_230.mat (meta)\n",
      "Loading: Data_20160419_04_231.mat (meta)\n",
      "Loading: Data_20160419_04_232.mat (meta)\n",
      "Loading: Data_20160419_04_233.mat (meta)\n",
      "Loading: Data_20160419_04_234.mat (meta)\n",
      "Loading: Data_20160419_04_235.mat (meta)\n",
      "Loading: Data_20160419_04_236.mat (meta)\n",
      "Loading: Data_20160419_04_237.mat (meta)\n",
      "Loading: Data_20160419_04_238.mat (meta)\n"
     ]
    },
    {
     "name": "stdout",
     "output_type": "stream",
     "text": [
      "Loading: Data_20160419_04_239.mat (meta)\n",
      "Loading: Data_20160419_04_240.mat (meta)\n",
      "Loading: Data_20160419_04_241.mat (meta)\n",
      "Loading: Data_20160419_04_242.mat (meta)\n",
      "Loading: Data_20160419_04_243.mat (meta)\n",
      "Loading: Data_20160419_04_244.mat (meta)\n",
      "Loading: Data_20160419_04_245.mat (meta)\n",
      "Loading: Data_20160419_04_246.mat (meta)\n",
      "Loading: Data_20160419_04_247.mat (meta)\n",
      "Loading: Data_20160419_04_248.mat (meta)\n",
      "Loading: Data_20160419_04_249.mat (meta)\n",
      "Loading: Data_20160419_04_250.mat (meta)\n",
      "Loading: Data_20160419_04_251.mat (meta)\n",
      "Loading: Data_20160419_04_252.mat (meta)\n",
      "Loading: Data_20160419_04_253.mat (meta)\n",
      "Loading: Data_20160419_04_254.mat (meta)\n",
      "Loading: Data_20160419_04_255.mat (meta)\n",
      "Loading: Data_20160419_04_256.mat (meta)\n",
      "Loading: Data_20160419_04_257.mat (meta)\n",
      "Loading: Data_20160419_04_258.mat (meta)\n",
      "Loading: Data_20160419_04_259.mat (meta)\n",
      "Loading: Data_20160419_04_260.mat (meta)\n",
      "Loading: Data_20160419_04_261.mat (meta)\n",
      "Loading: Data_20160419_04_262.mat (meta)\n",
      "Loading: Data_20160419_04_263.mat (meta)\n",
      "Loading: Data_20160419_04_264.mat (meta)\n",
      "Loading: Data_20160419_04_265.mat (meta)\n",
      "Loading: Data_20160419_04_266.mat (meta)\n",
      "Loading: Data_20160419_04_267.mat (meta)\n",
      "Loading: Data_20160419_04_268.mat (meta)\n",
      "Loading: Data_20160419_04_269.mat (meta)\n",
      "Loading: Data_20160419_04_270.mat (meta)\n",
      "Loading: Data_20160419_04_271.mat (meta)\n",
      "Loading: Data_20160419_04_272.mat (meta)\n",
      "Loading: Data_20160419_04_273.mat (meta)\n",
      "Loading: Data_20160419_04_274.mat (meta)\n",
      "Loading: Data_20160419_04_275.mat (meta)\n",
      "Loading: Data_20160419_04_276.mat (meta)\n",
      "Loading: Data_20160419_04_277.mat (meta)\n",
      "Loading: Data_20160419_04_278.mat (meta)\n",
      "Loading: Data_20160419_04_279.mat (meta)\n",
      "Loading: Data_20160419_04_280.mat (meta)\n",
      "Loading: Data_20160419_04_281.mat (meta)\n",
      "Loading: Data_20160419_04_282.mat (meta)\n",
      "Loading: Data_20160419_04_283.mat (meta)\n",
      "Loading: Data_20160419_04_284.mat (meta)\n",
      "Loading: Data_20160419_04_285.mat (meta)\n",
      "Loading: Data_20160419_04_286.mat (meta)\n",
      "Loading: Data_20160419_04_287.mat (meta)\n",
      "Loading: Data_20160419_04_288.mat (meta)\n",
      "Loading: Data_20160419_04_289.mat (meta)\n",
      "Loading: Data_20160419_04_290.mat (meta)\n",
      "Loading: Data_20160419_04_291.mat (meta)\n",
      "Loading: Data_20160419_04_292.mat (meta)\n",
      "Loading: Data_20160419_04_293.mat (meta)\n",
      "Loading: Data_20160419_04_294.mat (meta)\n",
      "Loading: Data_20160419_04_295.mat (meta)\n",
      "Loading: Data_20160419_04_296.mat (meta)\n",
      "Loading: Data_20160419_04_297.mat (meta)\n",
      "Loading: Data_20160419_04_298.mat (meta)\n",
      "Loading: Data_20160419_04_299.mat (meta)\n",
      "Loading: Data_20160419_04_300.mat (meta)\n",
      "Loading: Data_20160419_04_301.mat (meta)\n",
      "Loading: Data_20160419_04_302.mat (meta)\n",
      "Loading: Data_20160419_04_303.mat (meta)\n",
      "Loading: Data_20160419_04_304.mat (meta)\n",
      "Loading: Data_20160419_04_305.mat (meta)\n",
      "Loading: Data_20160419_04_306.mat (meta)\n",
      "Loading: Data_20160419_04_307.mat (meta)\n",
      "Loading: Data_20160419_04_308.mat (meta)\n",
      "Loading: Data_20160419_04_309.mat (meta)\n",
      "Loading: Data_20160419_04_310.mat (meta)\n",
      "Loading: Data_20160419_04_311.mat (meta)\n",
      "Loading: Data_20160419_04_312.mat (meta)\n",
      "Loading: Data_20160419_04_319.mat (meta)\n",
      "Loading: Data_20160419_04_320.mat (meta)\n",
      "Loading: Data_20160419_04_321.mat (meta)\n",
      "Loading: Data_20160419_04_322.mat (meta)\n",
      "Loading: Data_20160419_04_323.mat (meta)\n",
      "Loading: Data_20160419_04_324.mat (meta)\n",
      "Loading: Data_20160419_04_325.mat (meta)\n",
      "Loading: Data_20160419_04_326.mat (meta)\n",
      "Loading: Data_20160419_04_327.mat (meta)\n",
      "Loading: Data_20160419_04_328.mat (meta)\n",
      "Loading: Data_20160419_04_329.mat (meta)\n",
      "Loading: Data_20160419_04_331.mat (meta)\n",
      "Loading: Data_20160419_04_332.mat (meta)\n",
      "Loading: Data_20160419_04_333.mat (meta)\n",
      "Loading: Data_20160419_04_334.mat (meta)\n",
      "Loading: Data_20160419_04_335.mat (meta)\n",
      "Loading: Data_20160419_04_336.mat (meta)\n"
     ]
    }
   ],
   "source": [
    "# Load the SR meta data into a dataframe\n",
    "input_sr_data = glob('../pySnowRadar/data/sr/20160419_04/*.mat')\n",
    "sr_meta = [SnowRadar(sr, 'meta') for sr in input_sr_data]\n",
    "sr_gdf = gpd.GeoDataFrame(\n",
    "        data={'file': [sr.file_path for sr in sr_meta]}, \n",
    "        geometry=[sr.line for sr in sr_meta], \n",
    "        crs={'init': 'epsg:4326'}\n",
    "    )\n",
    "\n",
    "# Create a 15 m buffer geometry around each SR point\n",
    "sr_gdf = sr_gdf.to_crs({'init':'epsg:32616'})\n",
    "sr_gdf['geometry'] = sr_gdf.buffer(15)"
   ]
  },
  {
   "cell_type": "code",
   "execution_count": 5,
   "metadata": {},
   "outputs": [
    {
     "data": {
      "text/plain": [
       "<matplotlib.axes._subplots.AxesSubplot at 0x26f814e1160>"
      ]
     },
     "execution_count": 5,
     "metadata": {},
     "output_type": "execute_result"
    },
    {
     "data": {
      "image/png": "[encoded data removed]",
      "text/plain": [
       "<Figure size 432x288 with 1 Axes>"
      ]
     },
     "metadata": {
      "needs_background": "light"
     },
     "output_type": "display_data"
    }
   ],
   "source": [
    "# Plot the data together\n",
    "flight_lines = sr_gdf.plot(color='black', edgecolor='black', label = 'SnowRadar')\n",
    "mp_gdf.plot(ax=flight_lines, marker='o', color='red', markersize=5, label = 'In-situ')\n"
   ]
  },
  {
   "cell_type": "code",
   "execution_count": 6,
   "metadata": {},
   "outputs": [
    {
     "name": "stdout",
     "output_type": "stream",
     "text": [
      "Loading: Data_20160419_04_001.mat (meta)\n",
      "Loading: Data_20160419_04_083.mat (meta)\n",
      "Loading: Data_20160419_04_177.mat (meta)\n",
      "Loading: Data_20160419_04_034.mat (meta)\n",
      "Loading: Data_20160419_04_048.mat (meta)\n",
      "Loading: Data_20160419_04_211.mat (meta)\n",
      "Loading: Data_20160419_04_227.mat (meta)\n",
      "Loading: Data_20160419_04_047.mat (meta)\n",
      "Loading: Data_20160419_04_035.mat (meta)\n",
      "Loading: Data_20160419_04_004.mat (meta)\n",
      "Loading: Data_20160419_04_032.mat (meta)\n",
      "Loading: Data_20160419_04_050.mat (meta)\n",
      "Loading: Data_20160419_04_080.mat (meta)\n",
      "Loading: Data_20160419_04_180.mat (meta)\n",
      "Loading: Data_20160419_04_208.mat (meta)\n",
      "Loading: Data_20160419_04_230.mat (meta)\n",
      "Loading: Data_20160419_04_259.mat (meta)\n",
      "Loading: Data_20160419_04_005.mat (meta)\n",
      "Loading: Data_20160419_04_031.mat (meta)\n",
      "Loading: Data_20160419_04_051.mat (meta)\n",
      "Loading: Data_20160419_04_181.mat (meta)\n",
      "Loading: Data_20160419_04_207.mat (meta)\n",
      "Loading: Data_20160419_04_231.mat (meta)\n",
      "Loading: Data_20160419_04_079.mat (meta)\n",
      "Loading: Data_20160419_04_258.mat (meta)\n",
      "Loading: Data_20160419_04_257.mat (meta)\n",
      "Loading: Data_20160419_04_324.mat (meta)\n",
      "Loading: Data_20160419_04_148.mat (meta)\n",
      "Loading: Data_20160419_04_332.mat (meta)\n",
      "Loading: Data_20160419_04_006.mat (meta)\n",
      "Loading: Data_20160419_04_029.mat (meta)\n",
      "Loading: Data_20160419_04_053.mat (meta)\n",
      "Loading: Data_20160419_04_077.mat (meta)\n",
      "Loading: Data_20160419_04_205.mat (meta)\n",
      "Loading: Data_20160419_04_232.mat (meta)\n",
      "Loading: Data_20160419_04_256.mat (meta)\n",
      "Loading: Data_20160419_04_182.mat (meta)\n",
      "Loading: Data_20160419_04_030.mat (meta)\n",
      "Loading: Data_20160419_04_261.mat (meta)\n",
      "Loading: Data_20160419_04_262.mat (meta)\n",
      "Loading: Data_20160419_04_176.mat (meta)\n",
      "Loading: Data_20160419_04_226.mat (meta)\n",
      "Loading: Data_20160419_04_146.mat (meta)\n",
      "Loading: Data_20160419_04_147.mat (meta)\n",
      "Loading: Data_20160419_04_321.mat (meta)\n",
      "Loading: Data_20160419_04_322.mat (meta)\n",
      "Loading: Data_20160419_04_333.mat (meta)\n",
      "Loading: Data_20160419_04_334.mat (meta)\n",
      "Loading: Data_20160419_04_001.mat (full)\n",
      "Loading: Data_20160419_04_083.mat (full)\n",
      "Loading: Data_20160419_04_177.mat (full)\n",
      "Loading: Data_20160419_04_034.mat (full)\n",
      "Loading: Data_20160419_04_048.mat (full)\n",
      "Loading: Data_20160419_04_211.mat (full)\n",
      "Loading: Data_20160419_04_227.mat (full)\n",
      "Loading: Data_20160419_04_047.mat (full)\n",
      "Loading: Data_20160419_04_035.mat (full)\n",
      "Loading: Data_20160419_04_004.mat (full)\n",
      "Loading: Data_20160419_04_032.mat (full)\n",
      "Loading: Data_20160419_04_050.mat (full)\n",
      "Loading: Data_20160419_04_080.mat (full)\n",
      "Loading: Data_20160419_04_180.mat (full)\n",
      "Loading: Data_20160419_04_208.mat (full)\n",
      "Loading: Data_20160419_04_230.mat (full)\n",
      "Loading: Data_20160419_04_259.mat (full)\n",
      "Loading: Data_20160419_04_005.mat (full)\n",
      "Loading: Data_20160419_04_031.mat (full)\n",
      "Loading: Data_20160419_04_051.mat (full)\n",
      "Loading: Data_20160419_04_181.mat (full)\n",
      "Loading: Data_20160419_04_207.mat (full)\n",
      "Loading: Data_20160419_04_231.mat (full)\n",
      "Loading: Data_20160419_04_079.mat (full)\n",
      "Loading: Data_20160419_04_258.mat (full)\n",
      "Loading: Data_20160419_04_257.mat (full)\n",
      "Loading: Data_20160419_04_324.mat (full)\n",
      "Loading: Data_20160419_04_148.mat (full)\n",
      "Loading: Data_20160419_04_332.mat (full)\n",
      "Loading: Data_20160419_04_006.mat (full)\n",
      "Loading: Data_20160419_04_029.mat (full)\n",
      "Loading: Data_20160419_04_053.mat (full)\n",
      "Loading: Data_20160419_04_077.mat (full)\n",
      "Loading: Data_20160419_04_205.mat (full)\n",
      "Loading: Data_20160419_04_232.mat (full)\n",
      "Loading: Data_20160419_04_256.mat (full)\n",
      "Loading: Data_20160419_04_182.mat (full)\n",
      "Loading: Data_20160419_04_030.mat (full)\n",
      "Loading: Data_20160419_04_261.mat (full)\n",
      "Loading: Data_20160419_04_262.mat (full)\n",
      "Loading: Data_20160419_04_176.mat (full)\n",
      "Loading: Data_20160419_04_226.mat (full)\n",
      "Loading: Data_20160419_04_146.mat (full)\n",
      "Loading: Data_20160419_04_147.mat (full)\n",
      "Loading: Data_20160419_04_321.mat (full)\n",
      "Loading: Data_20160419_04_322.mat (full)\n",
      "Loading: Data_20160419_04_333.mat (full)\n",
      "Loading: Data_20160419_04_334.mat (full)\n"
     ]
    }
   ],
   "source": [
    "# Intersect the two data sources to see where we have validation data available\n",
    "# then cut down the dataset to just SR frames with ground data\n",
    "\n",
    "insitu_intersect = gpd.sjoin(sr_gdf, mp_gdf, how='inner', op='intersects')\n",
    "insitu_filtered = insitu_intersect.file.unique()\n",
    "geo_filtered = geo_filter(insitu_filtered)\n",
    "\n",
    "# Generate error codes for remaining SR data\n",
    "sr_data = [SnowRadar(sr, 'full') for sr in geo_filtered]\n",
    "error_codes = [pd.Series(error_check(sr).tolist()) for sr in sr_data]"
   ]
  },
  {
   "cell_type": "code",
   "execution_count": 7,
   "metadata": {},
   "outputs": [
    {
     "name": "stdout",
     "output_type": "stream",
     "text": [
      "Loading: Data_20160419_04_083.mat (full)\n"
     ]
    }
   ],
   "source": [
    "cur_file = geo_filtered[1]\n",
    "snow_density = 0.3\n",
    "r_idx = np.sqrt((1 + 0.51 * snow_density) ** 3)\n",
    "radar_dat = SnowRadar(cur_file, 'full')\n",
    "radar_dat.surf_bin, radar_dat.surface = radar_dat.get_surface()\n",
    "radar_dat.calcpulsewidth()\n",
    "lower, upper = radar_dat.get_bounds(m_above=5)\n",
    "radar_subset = radar_dat.data_radar[upper:lower, :]\n"
   ]
  },
  {
   "cell_type": "code",
   "execution_count": 8,
   "metadata": {},
   "outputs": [],
   "source": [
    "#from pySnowRadar.algorithms import GSFC_NK, NSIDC, Wavelet_TN, Wavelet_JK"
   ]
  },
  {
   "cell_type": "code",
   "execution_count": 9,
   "metadata": {},
   "outputs": [],
   "source": [
    "#picker_list = pySnowRadar.algorithms.available_pickers()\n",
    "#picker=pySnowRadar.algorithms.Wavelet_TN\n",
    "#picker in picker_list"
   ]
  },
  {
   "cell_type": "code",
   "execution_count": 11,
   "metadata": {},
   "outputs": [
    {
     "name": "stderr",
     "output_type": "stream",
     "text": [
      "UsageError: Line magic function `%%time` not found.\n"
     ]
    }
   ],
   "source": [
    "import pySnowRadar.algorithms\n",
    "params={'snow_density':0.3,\n",
    "        'ref_snow_layer': 1,\n",
    "        'cwt_precision': 10}"
   ]
  },
  {
   "cell_type": "code",
   "execution_count": 13,
   "metadata": {},
   "outputs": [
    {
     "name": "stdout",
     "output_type": "stream",
     "text": [
      "Loading: Data_20160419_04_083.mat (full)\n",
      "Wall time: 3.25 s\n"
     ]
    }
   ],
   "source": [
    "%%time\n",
    "res = extract_layers(cur_file, picker=pySnowRadar.algorithms.Wavelet_JK, params=params, dump_results=False)"
   ]
  },
  {
   "cell_type": "code",
   "execution_count": 14,
   "metadata": {},
   "outputs": [
    {
     "name": "stdout",
     "output_type": "stream",
     "text": [
      "Loading: Data_20160419_04_083.mat (full)\n",
      "Wall time: 20.1 s\n"
     ]
    }
   ],
   "source": [
    "%%time\n",
    "res_tn = extract_layers(cur_file, picker=pySnowRadar.algorithms.Wavelet_TN, params=params, dump_results=False)"
   ]
  },
  {
   "cell_type": "code",
   "execution_count": 16,
   "metadata": {},
   "outputs": [
    {
     "data": {
      "text/plain": [
       "[<matplotlib.lines.Line2D at 0x26f9c1412e8>]"
      ]
     },
     "execution_count": 16,
     "metadata": {},
     "output_type": "execute_result"
    },
    {
     "data": {
      "image/png": "[encoded data removed]",
      "text/plain": [
       "<Figure size 432x288 with 1 Axes>"
      ]
     },
     "metadata": {
      "needs_background": "light"
     },
     "output_type": "display_data"
    }
   ],
   "source": [
    "plt.plot(res.snow_depth)\n",
    "plt.plot(res_tn.snow_depth)"
   ]
  },
  {
   "cell_type": "code",
   "execution_count": 21,
   "metadata": {},
   "outputs": [
    {
     "data": {
      "text/plain": [
       "<matplotlib.axes._subplots.AxesSubplot at 0x26f9cae7438>"
      ]
     },
     "execution_count": 21,
     "metadata": {},
     "output_type": "execute_result"
    },
    {
     "data": {
      "image/png": "[encoded data removed]",
      "text/plain": [
       "<Figure size 432x288 with 1 Axes>"
      ]
     },
     "metadata": {
      "needs_background": "light"
     },
     "output_type": "display_data"
    }
   ],
   "source": [
    "res.snow_depth.hist(density = True, color = 'k', bins = 25)\n",
    "res_tn.snow_depth.hist(density = True, color = 'grey', bins = 25, alpha = 0.5)"
   ]
  },
  {
   "cell_type": "markdown",
   "metadata": {},
   "source": [
    "## Batch testing"
   ]
  },
  {
   "cell_type": "code",
   "execution_count": 90,
   "metadata": {},
   "outputs": [],
   "source": [
    "from concurrent.futures import ProcessPoolExecutor\n",
    "from multiprocessing import cpu_count\n",
    "\n",
    "workers = 4\n",
    "input_sr_data = geo_filtered[0:2]\n",
    "dump_results=False\n",
    "picker=pySnowRadar.algorithms.Wavelet_JK\n",
    "\n",
    "params={'snow_density':0.3,\n",
    "        'ref_snow_layer': 1,\n",
    "        'cwt_precision': 10}\n",
    "\n",
    "if 'snow_density' not in params:\n",
    "        raise ValueError(\n",
    "            'Snow density or refractive index input required for all pickers'\n",
    "        )\n",
    "\n",
    "current_cores = cpu_count()\n",
    "if workers > current_cores:\n",
    "    raise SystemError('workers argument (passed: %d) cannot ' % workers + \n",
    "                      'exceed current CPU count (%d)' % current_cores)\n",
    "    \n",
    "    \n",
    "length = len(input_sr_data)\n",
    "dump_triggers = [dump_results] * length     \n",
    "picker_args = [picker] * length                     \n",
    "# Single value passed for snow_density\n",
    "if isinstance(params['snow_density'], float):\n",
    "    if not(0.1 <= snow_density <= 0.4):\n",
    "        raise ValueError('Invalid snow density passed: %.3f ' % snow_density + \\\n",
    "                        '(Must be between 0.1 and 0.4)')\n",
    "    else:\n",
    "        process_args = zip(\n",
    "            input_sr_data, \n",
    "            [picker] * length,\n",
    "            [params] * length,\n",
    "            dump_triggers\n",
    "        )\n",
    "#x = [foo for foo in process_args]\n",
    "with ProcessPoolExecutor(workers) as pool:\n",
    "     futures = [pool.submit(extract_layers, *foo) for foo in process_args]\n",
    "     results = [f.result() for f in futures]\n",
    " # return a concatenated dataframe containing results for all input datasets\n",
    "df = pd.concat(results)"
   ]
  },
  {
   "cell_type": "code",
   "execution_count": 87,
   "metadata": {},
   "outputs": [
    {
     "data": {
      "text/plain": [
       "0.16968101377614947"
      ]
     },
     "execution_count": 87,
     "metadata": {},
     "output_type": "execute_result"
    },
    {
     "data": {
      "image/png": "[encoded data removed]",
      "text/plain": [
       "<Figure size 432x288 with 1 Axes>"
      ]
     },
     "metadata": {
      "needs_background": "light"
     },
     "output_type": "display_data"
    }
   ],
   "source": [
    "fig, ax = plt.subplots()\n",
    "df.snow_depth.hist(ax=ax, density = True, bins = 50)\n",
    "ax.set_xlim(0,1)\n",
    "df.snow_depth.mean()"
   ]
  },
  {
   "cell_type": "markdown",
   "metadata": {},
   "source": [
    "# Batch testing"
   ]
  },
  {
   "cell_type": "code",
   "execution_count": 126,
   "metadata": {},
   "outputs": [
    {
     "name": "stdout",
     "output_type": "stream",
     "text": [
      "Wall time: 0 ns\n"
     ]
    }
   ],
   "source": [
    "workers = 6\n",
    "input_sr_data = geo_filtered\n",
    "dump_results=False\n",
    "picker=pySnowRadar.algorithms.Wavelet_JK"
   ]
  },
  {
   "cell_type": "code",
   "execution_count": 129,
   "metadata": {},
   "outputs": [
    {
     "name": "stdout",
     "output_type": "stream",
     "text": [
      "Wall time: 1min 17s\n"
     ]
    }
   ],
   "source": [
    "%%time\n",
    "res = batch_process(input_sr_data, picker, params)"
   ]
  },
  {
   "cell_type": "code",
   "execution_count": null,
   "metadata": {},
   "outputs": [],
   "source": [
    "res.snow_depth.hist(density = True)"
   ]
  }
 ],
 "metadata": {
  "kernelspec": {
   "display_name": "Python 3",
   "language": "python",
   "name": "python3"
  },
  "language_info": {
   "codemirror_mode": {
    "name": "ipython",
    "version": 3
   },
   "file_extension": ".py",
   "mimetype": "text/x-python",
   "name": "python",
   "nbconvert_exporter": "python",
   "pygments_lexer": "ipython3",
   "version": "3.7.3"
  }
 },
 "nbformat": 4,
 "nbformat_minor": 2
}
