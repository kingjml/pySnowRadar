{
 "cells": [
  {
   "cell_type": "markdown",
   "metadata": {},
   "source": [
    "## AWI SnowRadar (2-18 GHz) Snow Depth Example\n",
    "The AWI radar has a larger bandwdith, improved range resolution , and is often operated at lower-altitude. This example uses the Peakiness algorithm developed to handle this dataset and derive snow depth.\n",
    "\n",
    "Exmple AWI snow radar files are not available within this repo and must be requested."
   ]
  },
  {
   "cell_type": "code",
   "execution_count": null,
   "metadata": {},
   "outputs": [],
   "source": [
    "# pySnowRadar modules\n",
    "from pySnowRadar import SnowRadar\n",
    "from pySnowRadar.processing import extract_layers\n",
    "from pySnowRadar.algorithms import Wavelet_TN, Peakiness\n",
    "\n",
    "# Community packages\n",
    "import os\n",
    "import datetime\n",
    "import time\n",
    "import numpy as np\n",
    "import matplotlib.pyplot as plt"
   ]
  },
  {
   "cell_type": "code",
   "execution_count": null,
   "metadata": {},
   "outputs": [],
   "source": [
    "radar_file = \"../pySnowRadar/data/sr/Data_img_01_20190410_01_028.mat\"\n",
    "radar_dat = SnowRadar(radar_file, l_case='full')"
   ]
  },
  {
   "cell_type": "code",
   "execution_count": null,
   "metadata": {},
   "outputs": [],
   "source": [
    "# Find surface and trim data\n",
    "radar_dat.surf_bin, radar_dat.surface = radar_dat.get_surface()\n",
    "radar_dat.plot_quicklook(ylim = list(radar_dat.get_bounds(5)))"
   ]
  },
  {
   "cell_type": "markdown",
   "metadata": {},
   "source": [
    "## Application of wavelet and peakiness pickers"
   ]
  },
  {
   "cell_type": "code",
   "execution_count": null,
   "metadata": {},
   "outputs": [],
   "source": [
    "params={'ref_snow_layer': 1,\n",
    "        'cwt_precision': 10,\n",
    "        'snow_density': 0.3,\n",
    "        'log_peak_threshold': 0.6, \n",
    "        'lin_peak_threshold': 0.2, \n",
    "        'pp_l_threshold': 20, \n",
    "        'pp_r_threshold': 20}"
   ]
  },
  {
   "cell_type": "code",
   "execution_count": null,
   "metadata": {},
   "outputs": [],
   "source": [
    "%%time\n",
    "res_TN = extract_layers(radar_file, picker=Wavelet_TN, params=params, dump_results=False)"
   ]
  },
  {
   "cell_type": "code",
   "execution_count": null,
   "metadata": {},
   "outputs": [],
   "source": [
    "%%time\n",
    "res_Peakiness = extract_layers(radar_file, picker=Peakiness, params=params, dump_results=False)"
   ]
  },
  {
   "cell_type": "code",
   "execution_count": null,
   "metadata": {},
   "outputs": [],
   "source": [
    "# Plotting the echogram with the picked interfaces and the resulting snow depth\n",
    "\n",
    "fig, (ax1, ax2) = plt.subplots(2,1,figsize=(16,9),sharex=True)\n",
    "ax1.imshow(10 * np.log10(radar_dat.data_radar/np.nanmax(radar_dat.data_radar)), interpolation='none', cmap=\"gist_gray\")\n",
    "ax1.plot(res_Peakiness['b_as'], '-', color='b',alpha=1/3,label='A-S peakiness')\n",
    "ax1.plot(res_Peakiness['b_si'], '-', color='r',alpha=1/3,label='S-I peakiness')\n",
    "ax1.set_ylabel(\"Range bin\")\n",
    "ax1.legend(loc=\"upper right\")\n",
    "ax1.set_ylim([np.nanmax(res_Peakiness['b_si'])+200, np.nanmin(res_Peakiness['b_as'])-400])\n",
    "ax1.set_aspect('auto')\n",
    "\n",
    "ax2.plot(res_Peakiness['snow_depth'],'.-',label='peakiness')\n",
    "ax2.plot(res_TN['snow_depth'],':',color='C0', label='Haar')\n",
    "ax2.axhline(res_Peakiness['snow_depth'].mean(),ls='--',color='k', label='avg')\n",
    "ax2.set_ylabel(\"Snow depth [m]\")\n",
    "ax2.set_xlabel(\"Along track bin\")\n",
    "ax2.autoscale(enable=True, axis='x', tight=True)\n",
    "ax2.legend(loc=\"upper right\")\n",
    "fig.tight_layout()"
   ]
  }
 ],
 "metadata": {
  "kernelspec": {
   "display_name": "Python 3",
   "language": "python",
   "name": "python3"
  },
  "language_info": {
   "codemirror_mode": {
    "name": "ipython",
    "version": 3
   },
   "file_extension": ".py",
   "mimetype": "text/x-python",
   "name": "python",
   "nbconvert_exporter": "python",
   "pygments_lexer": "ipython3",
   "version": "3.7.3"
  }
 },
 "nbformat": 4,
 "nbformat_minor": 2
}
