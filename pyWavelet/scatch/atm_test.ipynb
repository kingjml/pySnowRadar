{
 "cells": [
  {
   "cell_type": "code",
   "execution_count": 1,
   "metadata": {},
   "outputs": [
    {
     "name": "stderr",
     "output_type": "stream",
     "text": [
      "C:\\Users\\kingj\\AppData\\Local\\Continuum\\anaconda3\\envs\\wavelet\\lib\\site-packages\\h5py\\__init__.py:36: FutureWarning: Conversion of the second argument of issubdtype from `float` to `np.floating` is deprecated. In future, it will be treated as `np.float64 == np.dtype(float).type`.\n",
      "  from ._conv import register_converters as _register_converters\n"
     ]
    }
   ],
   "source": [
    "#Community imports\n",
    "import h5py\n",
    "import os\n",
    "import numpy as np\n",
    "from datetime import datetime\n",
    "from shapely.geometry import Polygon, box\n",
    "import matplotlib.pyplot as plt"
   ]
  },
  {
   "cell_type": "code",
   "execution_count": 2,
   "metadata": {},
   "outputs": [],
   "source": [
    "#pyWavelet imports\n",
    "from atm import atm\n",
    "import timefunc"
   ]
  },
  {
   "cell_type": "code",
   "execution_count": 3,
   "metadata": {},
   "outputs": [
    {
     "name": "stdout",
     "output_type": "stream",
     "text": [
      "./data/atm\\ILATM1B_20160419_130300.ATM5AT2.h5\n"
     ]
    }
   ],
   "source": [
    "atm_dir= \"./data/atm\"\n",
    "atm_path = []\n",
    "atm_file = []\n",
    "for file in os.listdir(atm_dir):\n",
    "    if file.endswith(\".h5\"):\n",
    "        print(os.path.join(atm_dir, file))\n",
    "        atm_path.append(os.path.join(atm_dir, file))\n",
    "        atm_file.append(file)"
   ]
  },
  {
   "cell_type": "code",
   "execution_count": 4,
   "metadata": {},
   "outputs": [
    {
     "name": "stdout",
     "output_type": "stream",
     "text": [
      "2016-04-19 13:03:00\n",
      "2016-04-19 13:02:43.165000\n"
     ]
    }
   ],
   "source": [
    "atm_data = atm(atm_path[0], 'full')\n",
    "atm_data.calcutc()\n",
    "print(atm_data.file_epoch)\n",
    "print(datetime.fromtimestamp(atm_data.utc_time[0]))"
   ]
  },
  {
   "cell_type": "code",
   "execution_count": 22,
   "metadata": {},
   "outputs": [
    {
     "name": "stdout",
     "output_type": "stream",
     "text": [
      "POLYGON ((-93.27566300000001 79.98822699999999, -93.27566300000001 80.474024, -93.20387599999998 80.474024, -93.20387599999998 79.98822699999999, -93.27566300000001 79.98822699999999))\n"
     ]
    }
   ],
   "source": [
    "#comes in xmin, ymin, xmax, ymax\n",
    "xmin, ymin, xmax, ymax = atm_data.extent\n",
    "atm_poly = box(-xmin, ymin, -xmax, ymax)\n",
    "atm_x, atm_y = atm_poly.exterior.xy\n",
    "print(atm_poly)"
   ]
  },
  {
   "cell_type": "code",
   "execution_count": 23,
   "metadata": {},
   "outputs": [
    {
     "data": {
      "image/png": "[encoded data removed]",
      "text/plain": [
       "<matplotlib.figure.Figure at 0x842b780>"
      ]
     },
     "metadata": {},
     "output_type": "display_data"
    }
   ],
   "source": [
    "plt.plot(atm_x, atm_y, color='#6699cc', alpha=0.7,\n",
    "    linewidth=3, solid_capstyle='round', zorder=2);"
   ]
  },
  {
   "cell_type": "markdown",
   "metadata": {},
   "source": [
    "Generate atm objects for each file"
   ]
  },
  {
   "cell_type": "code",
   "execution_count": 14,
   "metadata": {},
   "outputs": [],
   "source": [
    "atm_data = [atm(ap, 'min') for ap in atm_path]"
   ]
  }
 ],
 "metadata": {
  "kernelspec": {
   "display_name": "Python 3",
   "language": "python",
   "name": "python3"
  },
  "language_info": {
   "codemirror_mode": {
    "name": "ipython",
    "version": 3
   },
   "file_extension": ".py",
   "mimetype": "text/x-python",
   "name": "python",
   "nbconvert_exporter": "python",
   "pygments_lexer": "ipython3",
   "version": "3.6.6"
  }
 },
 "nbformat": 4,
 "nbformat_minor": 2
}
