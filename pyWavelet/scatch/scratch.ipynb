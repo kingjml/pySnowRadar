{
 "cells": [
  {
   "cell_type": "code",
   "execution_count": 12,
   "metadata": {},
   "outputs": [],
   "source": [
    "import numpy as np\n",
    "import snowradar\n",
    "from scipy import signal"
   ]
  },
  {
   "cell_type": "code",
   "execution_count": 7,
   "metadata": {},
   "outputs": [],
   "source": [
    "density_snow = 0.300 #Density of snow on sea ice; See Alexandrov et al., 2010, The Cryosphere\n",
    "perm_snow = (1 + 0.51 * density_snow) ** 3  #Density to permitivity\n",
    "n_snow = np.sqrt(perm_snow) #Permitivity to refractive index\n",
    "c = 299792458 #Vacuum speed of light"
   ]
  },
  {
   "cell_type": "code",
   "execution_count": 8,
   "metadata": {},
   "outputs": [],
   "source": [
    "radar_file = \"./data/awi/Data_20170410_01_006.mat\"\n",
    "radar_dat = snowradar.AWI(radar_file, l_case='full')"
   ]
  },
  {
   "cell_type": "code",
   "execution_count": 9,
   "metadata": {},
   "outputs": [
    {
     "name": "stdout",
     "output_type": "stream",
     "text": [
      "0.028389437310606058\n",
      "0.075697595645\n"
     ]
    }
   ],
   "source": [
    "radar_dat.calcpulsewidth()\n",
    "print(radar_dat.epw)\n",
    "print(radar_dat.n2n)"
   ]
  },
  {
   "cell_type": "code",
   "execution_count": 10,
   "metadata": {},
   "outputs": [],
   "source": [
    "def RadarWindow(x,window_len=11):\n",
    "    y = np.convolve(signal.windows.boxcar(window_len)/signal.windows.boxcar(window_len).sum(),x,mode='valid')\n",
    "    return y"
   ]
  },
  {
   "cell_type": "code",
   "execution_count": 13,
   "metadata": {},
   "outputs": [],
   "source": [
    "#radar_sub = np.transpose(radar_dat.data_radar)[1000:5000,0:300]\n",
    "radar_sub = np.transpose(radar_dat.data_radar)[1000:6000,0:300]\n",
    "\n",
    "#radar_sub = np.transpose(radar_dat.data_radar)\n",
    "radar_1d_smooth = np.apply_along_axis(RadarWindow, 0, radar_sub, 5)\n",
    "radar_2d_smooth = signal.medfilt2d(radar_sub, kernel_size=5)\n",
    "#radar_1d_window = RadarWindow(radar_sub,10)"
   ]
  },
  {
   "cell_type": "code",
   "execution_count": null,
   "metadata": {},
   "outputs": [],
   "source": [
    "l_as,l_si = np.apply_along_axis(picklayers.picklayers, 0, radar_1d_smooth,radar_dat.n2n,radar_dat.dfr,n_snow)"
   ]
  }
 ],
 "metadata": {
  "kernelspec": {
   "display_name": "Python 3",
   "language": "python",
   "name": "python3"
  },
  "language_info": {
   "codemirror_mode": {
    "name": "ipython",
    "version": 3
   },
   "file_extension": ".py",
   "mimetype": "text/x-python",
   "name": "python",
   "nbconvert_exporter": "python",
   "pygments_lexer": "ipython3",
   "version": "3.6.6"
  }
 },
 "nbformat": 4,
 "nbformat_minor": 2
}
