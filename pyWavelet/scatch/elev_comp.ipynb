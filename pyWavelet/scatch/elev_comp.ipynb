{
 "cells": [
  {
   "cell_type": "code",
   "execution_count": null,
   "metadata": {},
   "outputs": [],
   "source": [
    "if radar_dat.compressed:\n",
    "    Nz = radar_dat.elv_corr.max()\n",
    "    Nt = Nz + len(radar_dat.trunc_bins)\n",
    "    radar_dat.elevation = radar_dat.elevation - radar_dat.elv_corr * radar_dat.dfr\n",
    "    radar_dat.surface = radar_dat.surface - radar_dat.elv_corr * radar_dat.dfr\n",
    "    radar_dat.data_radar = np.concatenate((np.zeros((Nz,radar_dat.data_radar.shape[1])), radar_dat.data_radar), axis = 0)\n",
    "    radar_dat.data_radar = np.apply_along_axis(np.roll, 0, radar_dat.data_radar, -radar_dat.elv_corr)\n",
    "    \n",
    "    if len(radar_dat.time_fast) == len(radar_dat.trunc_bins):\n",
    "        t0 = radar_dat.time_fast[0] - Nz*dt\n",
    "    else:\n",
    "        t0 =  radar_dat.time_fast[radar_dat.trunc_bins[0]] - Nz * radar_dat.dft\n",
    "    radar_dat.time_fast = t0 + radar_dat.dft*np.arange(0, Nt-1)"
   ]
  },
  {
   "cell_type": "code",
   "execution_count": null,
   "metadata": {},
   "outputs": [],
   "source": [
    "fig, ax = plt.subplots(figsize=(25,5))\n",
    "ax.imshow(10 * np.log10(radar_dat.data_radar), interpolation='nearest', cmap=\"gist_gray\")\n",
    "plt.show()"
   ]
  },
  {
   "cell_type": "code",
   "execution_count": null,
   "metadata": {},
   "outputs": [],
   "source": []
  },
  {
   "cell_type": "code",
   "execution_count": null,
   "metadata": {},
   "outputs": [],
   "source": [
    "from pyWavelet import snowradar, picklayers, matfunc\n",
    "c = 299792458 #Vacuum speed of light\n",
    "import numpy as np"
   ]
  },
  {
   "cell_type": "code",
   "execution_count": null,
   "metadata": {},
   "outputs": [],
   "source": [
    "file_path = \"./data/sr/Data_20160419_04_010.mat\"\n",
    "radar_dat = matfunc.loadmat(file_path)\n",
    "Nz = radar_dat['Elevation_Correction'].max()\n",
    "dt = radar_dat['Time'][1] - radar_dat['Time'][0]\n",
    "dr = dt * c / 2\n",
    "Nt = Nz + len(radar_dat['Truncate_Bins'])\n",
    "print(Nz)\n",
    "print(Nt)"
   ]
  },
  {
   "cell_type": "code",
   "execution_count": 9,
   "metadata": {},
   "outputs": [
    {
     "data": {
      "text/plain": [
       "dict"
      ]
     },
     "execution_count": 9,
     "metadata": {},
     "output_type": "execute_result"
    }
   ],
   "source": [
    "type(radar_dat)"
   ]
  },
  {
   "cell_type": "code",
   "execution_count": null,
   "metadata": {},
   "outputs": [],
   "source": []
  },
  {
   "cell_type": "code",
   "execution_count": 10,
   "metadata": {},
   "outputs": [],
   "source": [
    "if 'Truncate_Bins' in radar_dat.keys():\n",
    "    compressed = True"
   ]
  },
  {
   "cell_type": "code",
   "execution_count": null,
   "metadata": {},
   "outputs": [],
   "source": [
    "#TODO check if Truncated_Bins is populated\n",
    "r_line = 0\n",
    "radar_dat['Elevation'][r_line] - radar_dat['Elevation_Correction'][r_line] * dr"
   ]
  },
  {
   "cell_type": "code",
   "execution_count": null,
   "metadata": {},
   "outputs": [],
   "source": [
    "elv_cor = radar_dat['Elevation'] - radar_dat['Elevation_Correction'] * dr\n",
    "surf_cor = radar_dat['Surface'] - radar_dat['Elevation_Correction'] * dr"
   ]
  },
  {
   "cell_type": "code",
   "execution_count": null,
   "metadata": {},
   "outputs": [],
   "source": [
    "radar_dat['Data'] = np.concatenate((np.zeros((Nz,radar_dat['Data'].shape[1])), radar_dat['Data']), axis = 0)"
   ]
  },
  {
   "cell_type": "code",
   "execution_count": null,
   "metadata": {},
   "outputs": [],
   "source": [
    "t = np.roll(radar_dat['Data'][:,r_line],-radar_dat['Elevation_Correction'][r_line])\n"
   ]
  },
  {
   "cell_type": "code",
   "execution_count": null,
   "metadata": {},
   "outputs": [],
   "source": [
    "if len(radar_dat['Time']) == len(radar_dat['Truncate_Bins']):\n",
    "    t0 = radar_dat['Time'][0] - Nz*dt\n",
    "else:\n",
    "    t0 =  radar_dat['Time'][radar_dat['Truncate_Bins'][0]] - Nz * dt"
   ]
  },
  {
   "cell_type": "code",
   "execution_count": null,
   "metadata": {},
   "outputs": [],
   "source": [
    "radar_dat['Time'] = t0 + dt*np.arange(0, Nt-2)"
   ]
  },
  {
   "cell_type": "code",
   "execution_count": null,
   "metadata": {},
   "outputs": [],
   "source": [
    "len(radar_dat['Data'])"
   ]
  },
  {
   "cell_type": "code",
   "execution_count": null,
   "metadata": {},
   "outputs": [],
   "source": [
    "import matplotlib.pyplot as plt\n",
    "plt.plot(t)"
   ]
  },
  {
   "cell_type": "code",
   "execution_count": null,
   "metadata": {},
   "outputs": [],
   "source": [
    "radar_dat['Truncate_Bins'].shape"
   ]
  },
  {
   "cell_type": "code",
   "execution_count": null,
   "metadata": {},
   "outputs": [],
   "source": [
    "radar_dat = snowradar.OIB(file_path, l_case='full')"
   ]
  },
  {
   "cell_type": "code",
   "execution_count": null,
   "metadata": {},
   "outputs": [],
   "source": [
    "radar_dat.surface"
   ]
  },
  {
   "cell_type": "code",
   "execution_count": null,
   "metadata": {},
   "outputs": [],
   "source": []
  }
 ],
 "metadata": {
  "kernelspec": {
   "display_name": "Python [conda env:wavelet]",
   "language": "python",
   "name": "conda-env-wavelet-py"
  },
  "language_info": {
   "codemirror_mode": {
    "name": "ipython",
    "version": 3
   },
   "file_extension": ".py",
   "mimetype": "text/x-python",
   "name": "python",
   "nbconvert_exporter": "python",
   "pygments_lexer": "ipython3",
   "version": "3.6.6"
  }
 },
 "nbformat": 4,
 "nbformat_minor": 2
}
