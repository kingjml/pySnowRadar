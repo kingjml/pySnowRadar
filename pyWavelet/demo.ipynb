{
 "cells": [
  {
   "cell_type": "markdown",
   "metadata": {},
   "source": [
    "# pyWavelet snow radar retreival demonstrator\n",
    "Wavelet based approach to retrieve snow depth from the CRESIS snow radar. The code is ported from the origional matlab work of Thomas Newman.\n",
    "\n",
    "Depdendancies: numpy, scipy, pywavelet, matplotlib\n",
    "\n",
    "J.King 2018\n",
    "\n",
    "Origional work T.Newman 2015"
   ]
  },
  {
   "cell_type": "code",
   "execution_count": 2,
   "metadata": {},
   "outputs": [],
   "source": [
    "import os\n",
    "import numpy as np\n",
    "import scipy.io as spio\n",
    "from scipy import signal\n",
    "from scipy.signal import find_peaks_cwt\n",
    "import matplotlib.pyplot as plt\n",
    "import pywt"
   ]
  },
  {
   "cell_type": "markdown",
   "metadata": {},
   "source": [
    "This is hardlinked for the moment update to the local location"
   ]
  },
  {
   "cell_type": "markdown",
   "metadata": {},
   "source": [
    "### Load the CRESIS mat file\n",
    "The code currently uses the mat files from the CRESIS ftp but should be updaded to use the nc version from NSIDC. Borrowed the MATLAB reader from here:\n",
    "https://stackoverflow.com/questions/7008608/scipy-io-loadmat-nested-structures-i-e-dictionaries"
   ]
  },
  {
   "cell_type": "code",
   "execution_count": 3,
   "metadata": {},
   "outputs": [],
   "source": [
    "def loadmat(filename):\n",
    "    '''\n",
    "    this function should be called instead of direct spio.loadmat\n",
    "    as it cures the problem of not properly recovering python dictionaries\n",
    "    from mat files. It calls the function check keys to cure all entries\n",
    "    which are still mat-objects\n",
    "    '''\n",
    "    data = spio.loadmat(filename, struct_as_record=False, squeeze_me=True)\n",
    "    return _check_keys(data)\n",
    "\n",
    "def _check_keys(dict):\n",
    "    '''\n",
    "    checks if entries in dictionary are mat-objects. If yes\n",
    "    todict is called to change them to nested dictionaries\n",
    "    '''\n",
    "    for key in dict:\n",
    "        if isinstance(dict[key], spio.matlab.mio5_params.mat_struct):\n",
    "            dict[key] = _todict(dict[key])\n",
    "    return dict        \n",
    "\n",
    "def _todict(matobj):\n",
    "    '''\n",
    "    A recursive function which constructs from matobjects nested dictionaries\n",
    "    '''\n",
    "    dict = {}\n",
    "    for strg in matobj._fieldnames:\n",
    "        elem = matobj.__dict__[strg]\n",
    "        if isinstance(elem, spio.matlab.mio5_params.mat_struct):\n",
    "            dict[strg] = _todict(elem)\n",
    "        else:\n",
    "            dict[strg] = elem\n",
    "    return dict"
   ]
  },
  {
   "cell_type": "markdown",
   "metadata": {},
   "source": [
    "I know, i know. Hardlinks."
   ]
  },
  {
   "cell_type": "code",
   "execution_count": 4,
   "metadata": {},
   "outputs": [],
   "source": [
    "#radar_file = os.path.abspath(\"C:/Users/kingj/Documents/Projects/2018-2019/250618_Wavelet/pyWavelet/pyWavelet/data/Data_20160419_04_010.mat\")\n",
    "radar_file = os.path.abspath(\"C:/Projects/pyWavelet/pyWavelet/data/Data_20160419_04_010.mat\")\n",
    "radar_dat =  loadmat(radar_file)"
   ]
  },
  {
   "cell_type": "markdown",
   "metadata": {},
   "source": [
    "### Processing constants\n",
    "\n",
    "Assign assumed snow density, define signal overampling, and gather signal properties"
   ]
  },
  {
   "cell_type": "code",
   "execution_count": 5,
   "metadata": {},
   "outputs": [],
   "source": [
    "density_snow = 0.32 #Density of snow on sea ice; See Alexandrov et al., 2010, The Cryosphere\n",
    "perm_snow = (1+0.51*density_snow)**3  #Density to permitivity\n",
    "n_snow = np.sqrt(perm_snow) #Permitivity to refractive index\n",
    "c = 299792458 #Vacuum speed of light\n",
    "\n",
    "oversample_num = 1000\n",
    "num_nyquist_ts = 100 #number of nyquist timesteps\n",
    "\n",
    "bandwidth = np.abs((radar_dat['param_records']['radar']['wfs']['f1']-radar_dat['param_records']['radar']['wfs']['f0'])*radar_dat['param_records']['radar']['wfs']['fmult'])\n",
    "delta_fast_time = radar_dat['Time'][1] - radar_dat['Time'][0] \n",
    "delta_fast_time_range = (delta_fast_time/2)*c"
   ]
  },
  {
   "cell_type": "markdown",
   "metadata": {},
   "source": [
    "## Calculates the pulsewidth\n",
    "Calulate the equivalent pulseidth and null to null pulsewidth in space given an input bandwidth and window function\n",
    "Ported from calculatePulseWidth.m"
   ]
  },
  {
   "cell_type": "code",
   "execution_count": 6,
   "metadata": {},
   "outputs": [],
   "source": [
    "nyquist_sf = 2*bandwidth #nyquist sampling frequency\n",
    "fs = nyquist_sf *oversample_num #sampling frequency\n",
    "time_step = 1/fs # The sample spacing in time\n",
    "max_time  = num_nyquist_ts*oversample_num*time_step\n",
    "time_vect = np.arange(-max_time,max_time,time_step)"
   ]
  },
  {
   "cell_type": "code",
   "execution_count": 7,
   "metadata": {},
   "outputs": [],
   "source": [
    "half_bandwidth = bandwidth/2\n",
    "n_FFT= len(time_vect)\n",
    "f = fs*np.linspace(-0.5,0.5,n_FFT)\n",
    "n_band_points = np.sum(np.abs(f)<=half_bandwidth)\n",
    "spectral_win = signal.hann(n_band_points)"
   ]
  },
  {
   "cell_type": "code",
   "execution_count": 8,
   "metadata": {},
   "outputs": [],
   "source": [
    "freq_domain_signal = np.zeros(len(f))\n",
    "freq_domain_signal[np.abs(f)<half_bandwidth] = spectral_win\n",
    "shift_freq_domain_signal = np.fft.ifftshift(freq_domain_signal)\n",
    "time_domain_signal = np.fft.ifft(shift_freq_domain_signal)*n_FFT\n",
    "time_sig = np.fft.fftshift(time_domain_signal)\n",
    "power_signal = np.abs(time_sig**2)\n",
    "power_signal_norm = power_signal/np.max(power_signal)"
   ]
  },
  {
   "cell_type": "code",
   "execution_count": 9,
   "metadata": {},
   "outputs": [],
   "source": [
    "max_val = np.max(power_signal_norm)\n",
    "max_idx = np.argmax(power_signal_norm)"
   ]
  },
  {
   "cell_type": "code",
   "execution_count": 10,
   "metadata": {},
   "outputs": [
    {
     "data": {
      "image/png": "[encoded data removed]",
      "text/plain": [
       "<Figure size 432x288 with 1 Axes>"
      ]
     },
     "metadata": {},
     "output_type": "display_data"
    }
   ],
   "source": [
    "fig, ax = plt.subplots()\n",
    "ax.plot(power_signal_norm)\n",
    "ax.vlines(max_idx, 0, 1, transform=ax.get_xaxis_transform(), colors='r')\n",
    "plt.show()"
   ]
  },
  {
   "cell_type": "code",
   "execution_count": 11,
   "metadata": {},
   "outputs": [],
   "source": [
    "equiv_pulse_width_val = np.sum(power_signal_norm)\n",
    "equiv_pulse_width_time = equiv_pulse_width_val*time_step\n",
    "equiv_pulse_width = equiv_pulse_width_time*c"
   ]
  },
  {
   "cell_type": "markdown",
   "metadata": {},
   "source": [
    "The peak detection is not exctaly the same as matlab but it works well enough. Div 0 errors on log10 can be safely ignored."
   ]
  },
  {
   "cell_type": "code",
   "execution_count": 13,
   "metadata": {},
   "outputs": [
    {
     "name": "stderr",
     "output_type": "stream",
     "text": [
      "C:\\Users\\kingj_000\\AppData\\Local\\conda\\conda\\envs\\wavelet\\lib\\site-packages\\ipykernel_launcher.py:1: RuntimeWarning: divide by zero encountered in log10\n",
      "  \"\"\"Entry point for launching an IPython kernel.\n"
     ]
    },
    {
     "data": {
      "image/png": "[encoded data removed]",
      "text/plain": [
       "<Figure size 432x288 with 1 Axes>"
      ]
     },
     "metadata": {},
     "output_type": "display_data"
    }
   ],
   "source": [
    "invert_l10_power = -10*np.log10(power_signal_norm)\n",
    "peak_idx, _ = signal.find_peaks(invert_l10_power)\n",
    "closest_peaks =  np.sort(np.abs(peak_idx - max_idx))\n",
    "\n",
    "fig, ax = plt.subplots()\n",
    "ax.plot(invert_l10_power)\n",
    "ax.vlines(max_idx, 0, 1, transform=ax.get_xaxis_transform(), colors='g')\n",
    "plt.show()"
   ]
  },
  {
   "cell_type": "code",
   "execution_count": 14,
   "metadata": {},
   "outputs": [],
   "source": [
    "null_2_width = 2*np.mean(closest_peaks[0:1])\n",
    "null_2_time = null_2_width*time_step\n",
    "null_2_space = null_2_time*c"
   ]
  },
  {
   "cell_type": "markdown",
   "metadata": {},
   "source": [
    "### Pick Air-Snow and Snow-Ice interfaces"
   ]
  },
  {
   "cell_type": "code",
   "execution_count": 15,
   "metadata": {},
   "outputs": [],
   "source": [
    "ref_scale_lin_m = 2*null_2_space\n",
    "max_scale_lin = np.ceil(ref_scale_lin_m/delta_fast_time_range)\n",
    "lin_scale_vect_pre = np.arange(2,max_scale_lin,1)\n",
    "lin_scale_vect = lin_scale_vect_pre [np.mod(lin_scale_vect_pre,2)==1]"
   ]
  },
  {
   "cell_type": "code",
   "execution_count": 16,
   "metadata": {},
   "outputs": [],
   "source": [
    "ref_snow_layer = 1\n",
    "snow_layer_opl = ref_snow_layer*n_snow*2\n",
    "ref_scale_log_m = 2*snow_layer_opl\n",
    "max_scale_log = np.ceil(ref_scale_log_m/delta_fast_time_range)\n",
    "log_scale_vect_pre = np.arange(2,max_scale_log,1)\n",
    "log_scale_vect = log_scale_vect_pre [np.mod(log_scale_vect_pre,2)==1]"
   ]
  },
  {
   "cell_type": "code",
   "execution_count": 17,
   "metadata": {},
   "outputs": [
    {
     "name": "stdout",
     "output_type": "stream",
     "text": [
      "[  3.   5.   7.   9.  11.  13.  15.  17.  19.  21.  23.  25.  27.  29.\n",
      "  31.  33.  35.  37.  39.  41.  43.  45.  47.  49.  51.  53.  55.  57.\n",
      "  59.  61.  63.  65.  67.  69.  71.  73.  75.  77.  79.  81.  83.  85.\n",
      "  87.  89.  91.  93.  95.  97.  99. 101. 103. 105. 107. 109. 111. 113.\n",
      " 115. 117. 119. 121. 123. 125. 127. 129. 131. 133. 135. 137. 139. 141.\n",
      " 143. 145. 147. 149. 151. 153. 155. 157. 159. 161. 163. 165. 167. 169.\n",
      " 171. 173. 175. 177. 179. 181. 183. 185. 187. 189. 191. 193. 195. 197.\n",
      " 199. 201. 203. 205. 207. 209. 211. 213. 215. 217. 219. 221. 223. 225.\n",
      " 227. 229. 231. 233. 235. 237. 239. 241. 243. 245. 247. 249. 251. 253.\n",
      " 255. 257. 259. 261. 263. 265. 267. 269. 271. 273. 275. 277. 279. 281.\n",
      " 283. 285. 287. 289. 291. 293. 295. 297. 299. 301. 303. 305. 307. 309.\n",
      " 311. 313. 315. 317. 319. 321. 323. 325. 327. 329. 331. 333. 335. 337.\n",
      " 339. 341. 343. 345. 347. 349. 351. 353. 355. 357. 359. 361. 363. 365.\n",
      " 367. 369. 371. 373. 375. 377. 379. 381. 383. 385.]\n"
     ]
    }
   ],
   "source": [
    "print(log_scale_vect)"
   ]
  },
  {
   "cell_type": "code",
   "execution_count": 18,
   "metadata": {},
   "outputs": [],
   "source": [
    "data_col = radar_dat['Data'][:,0]"
   ]
  },
  {
   "cell_type": "markdown",
   "metadata": {},
   "source": [
    "I'm using the db1 wavelet here but should this be haar? I see that they are eqv but need to check that this is true for pywt. There is no direct eqv in python for the old matlab CWT so I've hacked this together from pywt's CWT methods. They don't allow discrete wavelets to be used so I've had to change it around a bit to accmodate this. TODO: Check that the result is identical to matlab."
   ]
  },
  {
   "cell_type": "code",
   "execution_count": 19,
   "metadata": {},
   "outputs": [],
   "source": [
    "wavelet  = pywt.Wavelet('db1')\n",
    "data = data_col\n",
    "scales = lin_scale_vect\n",
    "lin_coefs = np.zeros((np.size(scales), data.size))"
   ]
  },
  {
   "cell_type": "code",
   "execution_count": 20,
   "metadata": {},
   "outputs": [],
   "source": [
    "for i in np.arange(np.size(scales)):\n",
    "            precision = 10\n",
    "            int_psi, x = pywt.integrate_wavelet(wavelet, precision=precision)\n",
    "            step = x[1] - x[0]\n",
    "            j = np.floor(\n",
    "                np.arange(scales[i] * (x[-1] - x[0]) + 1) / (scales[i] * step))\n",
    "            if np.max(j) >= np.size(int_psi):\n",
    "                j = np.delete(j, np.where((j >= np.size(int_psi)))[0])\n",
    "            coef = - np.sqrt(scales[i]) * np.diff(\n",
    "                np.convolve(data, int_psi[j.astype(np.int)][::-1]))\n",
    "            d = (coef.size - data.size) / 2.\n",
    "            lin_coefs[i, :] = coef[int(np.floor(d)):int(-np.ceil(d))]"
   ]
  },
  {
   "cell_type": "code",
   "execution_count": 21,
   "metadata": {},
   "outputs": [],
   "source": [
    "sampling_period=1.\n",
    "frequencies = pywt.scale2frequency(wavelet, scales, precision)\n",
    "if np.isscalar(frequencies):\n",
    "    frequencies = np.array([frequencies])\n",
    "for i in np.arange(len(frequencies)):\n",
    "    frequencies[i] /= sampling_period"
   ]
  },
  {
   "cell_type": "markdown",
   "metadata": {},
   "source": [
    "TODO: Filter edge cases"
   ]
  },
  {
   "cell_type": "code",
   "execution_count": 22,
   "metadata": {},
   "outputs": [],
   "source": [
    "sum_lin_coefs = np.sum(lin_coefs,axis=0)/lin_coefs.shape[0]\n",
    "pks_si = np.max(-sum_lin_coefs)\n",
    "locs_si = np.argmax(-sum_lin_coefs)"
   ]
  },
  {
   "cell_type": "markdown",
   "metadata": {},
   "source": [
    "Pick the A-S iterface"
   ]
  },
  {
   "cell_type": "code",
   "execution_count": 23,
   "metadata": {},
   "outputs": [],
   "source": [
    "data_col_log = 10*np.log10(data_col)\n",
    "data = data_col_log\n",
    "scales = log_scale_vect\n",
    "log_coefs = np.zeros((np.size(scales), data.size))"
   ]
  },
  {
   "cell_type": "code",
   "execution_count": 24,
   "metadata": {},
   "outputs": [],
   "source": [
    "for i in np.arange(np.size(scales)):\n",
    "            precision = 10\n",
    "            int_psi, x = pywt.integrate_wavelet(wavelet, precision=precision)\n",
    "            step = x[1] - x[0]\n",
    "            j = np.floor(\n",
    "                np.arange(scales[i] * (x[-1] - x[0]) + 1) / (scales[i] * step))\n",
    "            if np.max(j) >= np.size(int_psi):\n",
    "                j = np.delete(j, np.where((j >= np.size(int_psi)))[0])\n",
    "            coef = - np.sqrt(scales[i]) * np.diff(\n",
    "                np.convolve(data, int_psi[j.astype(np.int)][::-1]))\n",
    "            d = (coef.size - data.size) / 2.\n",
    "            log_coefs[i, :] = coef[int(np.floor(d)):int(-np.ceil(d))]"
   ]
  },
  {
   "cell_type": "code",
   "execution_count": 25,
   "metadata": {},
   "outputs": [],
   "source": [
    "sum_log_coefs = np.sum(log_coefs,axis=0)/log_coefs.shape[0]\n",
    "pks_as= np.max(-sum_log_coefs)\n",
    "locs_as = np.argmax(-sum_log_coefs)"
   ]
  },
  {
   "cell_type": "code",
   "execution_count": 26,
   "metadata": {},
   "outputs": [
    {
     "data": {
      "image/png": "[encoded data removed]",
      "text/plain": [
       "<Figure size 432x288 with 1 Axes>"
      ]
     },
     "metadata": {},
     "output_type": "display_data"
    }
   ],
   "source": [
    "fig, ax = plt.subplots()\n",
    "ax.plot(data_col_log)\n",
    "ax.vlines([locs_as, locs_si], 0, 1, transform=ax.get_xaxis_transform(), colors='r')\n",
    "plt.show()"
   ]
  },
  {
   "cell_type": "code",
   "execution_count": 27,
   "metadata": {},
   "outputs": [
    {
     "name": "stdout",
     "output_type": "stream",
     "text": [
      "0.17583319118126367\n"
     ]
    }
   ],
   "source": [
    "snowDepth = (locs_si-locs_as)*delta_fast_time_range/n_snow\n",
    "print(snowDepth) #in m"
   ]
  },
  {
   "cell_type": "code",
   "execution_count": 28,
   "metadata": {},
   "outputs": [
    {
     "name": "stdout",
     "output_type": "stream",
     "text": [
      "791\n",
      "774\n"
     ]
    }
   ],
   "source": [
    "print(locs_si)\n",
    "print(locs_as)"
   ]
  },
  {
   "cell_type": "code",
   "execution_count": null,
   "metadata": {},
   "outputs": [],
   "source": []
  }
 ],
 "metadata": {
  "kernelspec": {
   "display_name": "Python 3",
   "language": "python",
   "name": "python3"
  },
  "language_info": {
   "codemirror_mode": {
    "name": "ipython",
    "version": 3
   },
   "file_extension": ".py",
   "mimetype": "text/x-python",
   "name": "python",
   "nbconvert_exporter": "python",
   "pygments_lexer": "ipython3",
   "version": "3.6.5"
  }
 },
 "nbformat": 4,
 "nbformat_minor": 2
}
