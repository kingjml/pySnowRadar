{
 "cells": [
  {
   "cell_type": "markdown",
   "metadata": {},
   "source": [
    "# pyWavelet Snow Radar Processor"
   ]
  },
  {
   "cell_type": "code",
   "execution_count": null,
   "metadata": {},
   "outputs": [],
   "source": [
    "#pyWavelet mods\n",
    "import matfunc\n",
    "import picklayers\n",
    "import calcpulse\n",
    "import qc\n",
    "import plotradar\n",
    "import gpstime\n",
    "\n",
    "#Community packages\n",
    "import os\n",
    "import numpy as np\n",
    "import matplotlib.pyplot as plt\n",
    "import datetime\n",
    "import time"
   ]
  },
  {
   "cell_type": "code",
   "execution_count": null,
   "metadata": {},
   "outputs": [],
   "source": [
    "density_snow = 0.300 #Density of snow on sea ice; See Alexandrov et al., 2010, The Cryosphere\n",
    "perm_snow = (1+0.51*density_snow)**3  #Density to permitivity\n",
    "n_snow = np.sqrt(perm_snow) #Permitivity to refractive index\n",
    "c = 299792458 #Vacuum speed of light"
   ]
  },
  {
   "cell_type": "code",
   "execution_count": null,
   "metadata": {},
   "outputs": [],
   "source": [
    "radar_file = os.path.abspath(\"C:/Users/kingj/Documents/Projects/2018-2019/250618_Wavelet/pyWavelet/pyWavelet/data/sr/Data_20160419_04_010.mat\")\n",
    "#radar_file = os.path.abspath(\"C:/Projects/pyWavelet/pyWavelet/data/sr/Data_20160419_04_010.mat\")\n",
    "radar_dat =  matfunc.loadmat(radar_file)"
   ]
  },
  {
   "cell_type": "markdown",
   "metadata": {},
   "source": [
    "Convert the radar's GPS time to UTC and account for leap seconds"
   ]
  },
  {
   "cell_type": "code",
   "execution_count": null,
   "metadata": {},
   "outputs": [],
   "source": [
    "utc_time = gpstime.gpstoutc(radar_dat['GPS_time'])\n",
    "print(time.strftime(\"%b %d %Y %H:%M:%S\", utc_time[3])) #just as an example"
   ]
  },
  {
   "cell_type": "markdown",
   "metadata": {},
   "source": [
    "### Geolocation magic time"
   ]
  },
  {
   "cell_type": "code",
   "execution_count": null,
   "metadata": {},
   "outputs": [],
   "source": [
    "radar_dat['Latitude']"
   ]
  },
  {
   "cell_type": "markdown",
   "metadata": {},
   "source": [
    "### Signals stuff"
   ]
  },
  {
   "cell_type": "code",
   "execution_count": null,
   "metadata": {},
   "outputs": [],
   "source": [
    "bandwidth = np.abs((radar_dat['param_records']['radar']['wfs']['f1']\n",
    "                    -radar_dat['param_records']['radar']['wfs']['f0'])\n",
    "                   *radar_dat['param_records']['radar']['wfs']['fmult'])\n",
    "\n",
    "delta_fast_time = radar_dat['Time'][1] - radar_dat['Time'][0] \n",
    "delta_fast_time_range = (delta_fast_time/2)*c"
   ]
  },
  {
   "cell_type": "code",
   "execution_count": null,
   "metadata": {},
   "outputs": [],
   "source": [
    "epw, n2n = calcpulse.calcpulsewidth(bandwidth, 'hann')\n",
    "range_res = epw/2\n",
    "range_res_snow = range_res/n_snow"
   ]
  },
  {
   "cell_type": "markdown",
   "metadata": {},
   "source": [
    "### This applies the picklayer function to every trace\n",
    "TODO: Multi thread"
   ]
  },
  {
   "cell_type": "code",
   "execution_count": null,
   "metadata": {},
   "outputs": [],
   "source": [
    "%%time \n",
    "l_as,l_si = np.apply_along_axis(picklayers.picklayers, 0, radar_dat['Data'],n2n,delta_fast_time_range,n_snow)"
   ]
  },
  {
   "cell_type": "code",
   "execution_count": null,
   "metadata": {},
   "outputs": [],
   "source": [
    "snow_depth = (l_si-l_as)*delta_fast_time_range/n_snow\n",
    "print(np.mean(snow_depth)) #in m\n",
    "plt.plot(snow_depth)"
   ]
  },
  {
   "cell_type": "markdown",
   "metadata": {},
   "source": [
    "# So niceeeeeeeeeeeeee"
   ]
  },
  {
   "cell_type": "code",
   "execution_count": null,
   "metadata": {},
   "outputs": [],
   "source": [
    "fig, ax = plt.subplots()\n",
    "ax.imshow(10*np.log10(radar_dat['Data']), interpolation='nearest', cmap=\"gist_gray\")\n",
    "ax.plot(l_si, color='r')\n",
    "ax.plot(l_as, color='b')\n",
    "ax.set_ylim([900, 600])\n",
    "#fig.rcParams['figure.figsize'] = [500, 5]\n",
    "plt.show()\n"
   ]
  }
 ],
 "metadata": {
  "kernelspec": {
   "display_name": "Python 3",
   "language": "python",
   "name": "python3"
  },
  "language_info": {
   "codemirror_mode": {
    "name": "ipython",
    "version": 3
   },
   "file_extension": ".py",
   "mimetype": "text/x-python",
   "name": "python",
   "nbconvert_exporter": "python",
   "pygments_lexer": "ipython3",
   "version": "3.6.5"
  }
 },
 "nbformat": 4,
 "nbformat_minor": 2
}
