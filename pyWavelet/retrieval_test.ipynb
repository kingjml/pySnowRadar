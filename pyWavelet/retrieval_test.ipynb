{
 "cells": [
  {
   "cell_type": "markdown",
   "metadata": {},
   "source": [
    "# pyWavelet Snow Radar Processor"
   ]
  },
  {
   "cell_type": "code",
   "execution_count": null,
   "metadata": {},
   "outputs": [],
   "source": [
    "#pyWavelet modules\n",
    "from pyWavelet import snowradar, picklayers\n",
    "\n",
    "#Python stdlib\n",
    "import os\n",
    "import datetime\n",
    "import time\n",
    "\n",
    "#Community packages\n",
    "import numpy as np\n",
    "import matplotlib.pyplot as plt"
   ]
  },
  {
   "cell_type": "code",
   "execution_count": null,
   "metadata": {},
   "outputs": [],
   "source": [
    "density_snow = 0.300 #Density of snow on sea ice; See Alexandrov et al., 2010, The Cryosphere\n",
    "perm_snow = (1 + 0.51 * density_snow) ** 3  #Density to permitivity\n",
    "n_snow = np.sqrt(perm_snow) #Permitivity to refractive index\n",
    "c = 299792458 #Vacuum speed of light"
   ]
  },
  {
   "cell_type": "code",
   "execution_count": null,
   "metadata": {},
   "outputs": [],
   "source": [
    "#radar_file = \"./data/sr/Data_20160419_04_010.mat\"\n",
    "radar_file = \"./data/eureka/sr/Data_20160419_04_025.mat\"\n",
    "\n",
    "radar_dat = snowradar.OIB(radar_file, l_case='full')"
   ]
  },
  {
   "cell_type": "code",
   "execution_count": null,
   "metadata": {},
   "outputs": [],
   "source": [
    "radar_dat.extent"
   ]
  },
  {
   "cell_type": "markdown",
   "metadata": {},
   "source": [
    "Convert the radar's GPS time to UTC and account for leap seconds"
   ]
  },
  {
   "cell_type": "code",
   "execution_count": null,
   "metadata": {},
   "outputs": [],
   "source": [
    "example_date = datetime.datetime.utcfromtimestamp(radar_dat.time_utc[0])\n",
    "print(example_date)"
   ]
  },
  {
   "cell_type": "markdown",
   "metadata": {},
   "source": [
    "### Signals stuff"
   ]
  },
  {
   "cell_type": "code",
   "execution_count": null,
   "metadata": {},
   "outputs": [],
   "source": [
    "oversample_num = 1000\n",
    "num_nyquist_ts = 100\n",
    "nyquist_sf = 2*radar_dat.bandwidth\n",
    "fs = nyquist_sf *oversample_num \n",
    "time_step = 1/fs \n",
    "max_time  = num_nyquist_ts*oversample_num*time_step\n",
    "time_vect = np.arange(-max_time,max_time,time_step)"
   ]
  },
  {
   "cell_type": "code",
   "execution_count": null,
   "metadata": {},
   "outputs": [],
   "source": [
    "radar_dat.calcpulsewidth()\n",
    "print(radar_dat.epw)\n",
    "print(radar_dat.n2n)"
   ]
  },
  {
   "cell_type": "markdown",
   "metadata": {},
   "source": [
    "### This applies the picklayer function to every trace\n",
    "TODO: Multi thread and bake into snowradar class"
   ]
  },
  {
   "cell_type": "code",
   "execution_count": null,
   "metadata": {},
   "outputs": [],
   "source": [
    "l_as, l_si = np.apply_along_axis(\n",
    "    picklayers.picklayers, \n",
    "    0, \n",
    "    radar_dat.data_radar,\n",
    "    radar_dat.n2n,\n",
    "    radar_dat.dfr,\n",
    "    n_snow\n",
    ")"
   ]
  },
  {
   "cell_type": "code",
   "execution_count": null,
   "metadata": {},
   "outputs": [],
   "source": [
    "snow_depth = (l_si - l_as) * radar_dat.dfr / n_snow\n",
    "print(\"Mean snow depth (m):\", np.mean(snow_depth))\n",
    "plt.plot(snow_depth);"
   ]
  },
  {
   "cell_type": "markdown",
   "metadata": {},
   "source": [
    "# So niceeeeeeeeeeeeee"
   ]
  },
  {
   "cell_type": "code",
   "execution_count": null,
   "metadata": {},
   "outputs": [],
   "source": [
    "fig, ax = plt.subplots(figsize=(25,5))\n",
    "ax.imshow(10 * np.log10(radar_dat.data_radar), interpolation='nearest', cmap=\"gist_gray\")\n",
    "ax.plot(l_si, color='r')\n",
    "ax.plot(l_as, color='b')\n",
    "ax.set_ylim([900, 600])\n",
    "ax.set_aspect('auto')\n",
    "fig.tight_layout();"
   ]
  }
 ],
 "metadata": {
  "kernelspec": {
   "display_name": "Python [conda env:wavelet]",
   "language": "python",
   "name": "conda-env-wavelet-py"
  },
  "language_info": {
   "codemirror_mode": {
    "name": "ipython",
    "version": 3
   },
   "file_extension": ".py",
   "mimetype": "text/x-python",
   "name": "python",
   "nbconvert_exporter": "python",
   "pygments_lexer": "ipython3",
   "version": "3.6.6"
  }
 },
 "nbformat": 4,
 "nbformat_minor": 2
}
