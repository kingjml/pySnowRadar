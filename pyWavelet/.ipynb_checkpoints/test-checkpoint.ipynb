{
 "cells": [
  {
   "cell_type": "code",
   "execution_count": 1,
   "metadata": {},
   "outputs": [],
   "source": [
    "import os\n",
    "import matfunc\n",
    "import picklayers\n",
    "import calcpulse\n",
    "import numpy as np"
   ]
  },
  {
   "cell_type": "code",
   "execution_count": null,
   "metadata": {},
   "outputs": [],
   "source": [
    "density_snow = 0.32 #Density of snow on sea ice; See Alexandrov et al., 2010, The Cryosphere\n",
    "perm_snow = (1+0.51*density_snow)**3  #Density to permitivity\n",
    "n_snow = np.sqrt(perm_snow) #Permitivity to refractive index\n",
    "c = 299792458 #Vacuum speed of light"
   ]
  },
  {
   "cell_type": "code",
   "execution_count": 2,
   "metadata": {},
   "outputs": [],
   "source": [
    "radar_file = os.path.abspath(\"C:/Users/kingj/Documents/Projects/2018-2019/250618_Wavelet/pyWavelet/pyWavelet/data/Data_20160419_04_010.mat\")\n",
    "radar_dat =  matfunc.loadmat(radar_file)"
   ]
  },
  {
   "cell_type": "code",
   "execution_count": 3,
   "metadata": {},
   "outputs": [],
   "source": [
    "bandwidth = np.abs((radar_dat['param_records']['radar']['wfs']['f1']\n",
    "                    -radar_dat['param_records']['radar']['wfs']['f0'])\n",
    "                   *radar_dat['param_records']['radar']['wfs']['fmult'])\n",
    "\n",
    "delta_fast_time = radar_dat['Time'][1] - radar_dat['Time'][0] \n",
    "delta_fast_time_range = (delta_fast_time/2)*c"
   ]
  },
  {
   "cell_type": "code",
   "execution_count": 4,
   "metadata": {},
   "outputs": [],
   "source": [
    "epw, n2n = calcpulse.calcpulsewidth(bandwidth, 'hann')"
   ]
  },
  {
   "cell_type": "code",
   "execution_count": 5,
   "metadata": {},
   "outputs": [],
   "source": [
    "data_col = radar_dat['Data'][:,0]"
   ]
  },
  {
   "cell_type": "code",
   "execution_count": 6,
   "metadata": {},
   "outputs": [
    {
     "data": {
      "text/plain": [
       "(789, 791)"
      ]
     },
     "execution_count": 6,
     "metadata": {},
     "output_type": "execute_result"
    }
   ],
   "source": [
    "picklayers.picklayers(data_col,n2n,delta_fast_time_range,n_snow)"
   ]
  },
  {
   "cell_type": "code",
   "execution_count": null,
   "metadata": {},
   "outputs": [],
   "source": [
    "snowDepth = (locs_si-locs_as)*delta_fast_time_range/n_snow\n",
    "print(snowDepth) #in m"
   ]
  }
 ],
 "metadata": {
  "kernelspec": {
   "display_name": "Python 3",
   "language": "python",
   "name": "python3"
  },
  "language_info": {
   "codemirror_mode": {
    "name": "ipython",
    "version": 3
   },
   "file_extension": ".py",
   "mimetype": "text/x-python",
   "name": "python",
   "nbconvert_exporter": "python",
   "pygments_lexer": "ipython3",
   "version": "3.6.5"
  }
 },
 "nbformat": 4,
 "nbformat_minor": 2
}
