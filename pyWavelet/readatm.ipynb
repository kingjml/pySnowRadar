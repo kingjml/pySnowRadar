{
 "cells": [
  {
   "cell_type": "code",
   "execution_count": 136,
   "metadata": {},
   "outputs": [],
   "source": [
    "import h5py\n",
    "import os\n",
    "import gpstime\n",
    "import numpy as np\n",
    "import time\n",
    "import datetime\n",
    "import matplotlib.pyplot as plt\n"
   ]
  },
  {
   "cell_type": "code",
   "execution_count": 137,
   "metadata": {},
   "outputs": [
    {
     "name": "stdout",
     "output_type": "stream",
     "text": [
      "C:\\Projects\\pyWavelet\\pyWavelet\\data\\atm\\ILATM1B_20160419_130300.ATM5AT2.h5\n"
     ]
    }
   ],
   "source": [
    "atm_dir = os.path.abspath(\"C:/Projects/pyWavelet/pyWavelet/data/atm/\")\n",
    "atm_path = []\n",
    "atm_file = []\n",
    "for file in os.listdir(atm_dir):\n",
    "    if file.endswith(\".h5\"):\n",
    "        print(os.path.join(atm_dir, file))\n",
    "        atm_path.append(os.path.join(atm_dir, file))\n",
    "        atm_file.append(file)"
   ]
  },
  {
   "cell_type": "code",
   "execution_count": 138,
   "metadata": {},
   "outputs": [
    {
     "name": "stdout",
     "output_type": "stream",
     "text": [
      "2016-04-19 13:02:43\n"
     ]
    }
   ],
   "source": [
    "atm_epoch = datetime.datetime.strptime(atm_file[0][8:23], \"%Y%m%d_%H%M%S\")\n",
    "atm_epoch = atm_epoch - datetime.timedelta(seconds=17)\n",
    "print(atm_epoch)"
   ]
  },
  {
   "cell_type": "code",
   "execution_count": 140,
   "metadata": {},
   "outputs": [
    {
     "name": "stdout",
     "output_type": "stream",
     "text": [
      "Keys: ['elevation', 'longitude', 'ancillary_data', 'latitude', 'instrument_parameters']\n"
     ]
    }
   ],
   "source": [
    "atm_data = h5py.File(atm_path[0], 'r')\n",
    "print(\"Keys: %s\" % list(atm_data.keys()))"
   ]
  },
  {
   "cell_type": "code",
   "execution_count": 141,
   "metadata": {},
   "outputs": [],
   "source": [
    "with h5py.File(atm_path[0], 'r') as f:\n",
    "    atm_elv = f['elevation'][()]\n",
    "    atm_lat = f['latitude'][()]\n",
    "    atm_lon = f['longitude'][()]"
   ]
  }
 ],
 "metadata": {
  "kernelspec": {
   "display_name": "Python 3",
   "language": "python",
   "name": "python3"
  },
  "language_info": {
   "codemirror_mode": {
    "name": "ipython",
    "version": 3
   },
   "file_extension": ".py",
   "mimetype": "text/x-python",
   "name": "python",
   "nbconvert_exporter": "python",
   "pygments_lexer": "ipython3",
   "version": "3.6.5"
  }
 },
 "nbformat": 4,
 "nbformat_minor": 2
}
