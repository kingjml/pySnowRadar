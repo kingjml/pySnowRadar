{
 "cells": [
  {
   "cell_type": "code",
   "execution_count": 1,
   "metadata": {},
   "outputs": [],
   "source": [
    "import h5py\n",
    "import os\n",
    "import gpstime\n",
    "import numpy as np\n",
    "import time\n",
    "import datetime\n",
    "import matplotlib.pyplot as plt"
   ]
  },
  {
   "cell_type": "code",
   "execution_count": 2,
   "metadata": {},
   "outputs": [],
   "source": [
    "import loadatm"
   ]
  },
  {
   "cell_type": "code",
   "execution_count": 15,
   "metadata": {},
   "outputs": [
    {
     "name": "stdout",
     "output_type": "stream",
     "text": [
      "C:\\Users\\kingj\\Documents\\Projects\\2018-2019\\250618_Wavelet\\pyWavelet\\pyWavelet\\data\\atm\\ILATM1B_20160419_130300.ATM5AT2.h5\n"
     ]
    }
   ],
   "source": [
    "atm_dir= os.path.abspath(\"C:/Users/kingj/Documents/Projects/2018-2019/250618_Wavelet/pyWavelet/pyWavelet/data/atm/\")\n",
    "#atm_dir = os.path.abspath(\"C:/Projects/pyWavelet/pyWavelet/data/atm/\")\n",
    "atm_path = []\n",
    "atm_file = []\n",
    "for file in os.listdir(atm_dir):\n",
    "    if file.endswith(\".h5\"):\n",
    "        print(os.path.join(atm_dir, file))\n",
    "        atm_path.append(os.path.join(atm_dir, file))\n",
    "        atm_file.append(file)"
   ]
  },
  {
   "cell_type": "code",
   "execution_count": 6,
   "metadata": {},
   "outputs": [
    {
     "data": {
      "text/plain": [
       "datetime.datetime(2016, 4, 19, 13, 3)"
      ]
     },
     "execution_count": 6,
     "metadata": {},
     "output_type": "execute_result"
    }
   ],
   "source": [
    "atm_data = loadatm.atm(atm_path[0], 'min')\n",
    "atm_data.file_epoch"
   ]
  },
  {
   "cell_type": "code",
   "execution_count": 10,
   "metadata": {},
   "outputs": [],
   "source": [
    "atm_data = [loadatm.atm(ap, 'min') for ap in atm_path]"
   ]
  },
  {
   "cell_type": "code",
   "execution_count": 14,
   "metadata": {},
   "outputs": [
    {
     "data": {
      "text/plain": [
       "[datetime.datetime(2016, 4, 19, 13, 3)]"
      ]
     },
     "execution_count": 14,
     "metadata": {},
     "output_type": "execute_result"
    }
   ],
   "source": [
    "[ad.file_epoch for ad in atm_data]"
   ]
  },
  {
   "cell_type": "code",
   "execution_count": 5,
   "metadata": {},
   "outputs": [
    {
     "name": "stdout",
     "output_type": "stream",
     "text": [
      "Wall time: 17 s\n"
     ]
    }
   ],
   "source": [
    "%%time\n",
    "t = [datetime.datetime.strptime(str(ds), '%H%M%S.%f')  for ds in atm_data.time]"
   ]
  },
  {
   "cell_type": "code",
   "execution_count": 5,
   "metadata": {},
   "outputs": [
    {
     "name": "stdout",
     "output_type": "stream",
     "text": [
      "Wall time: 1.37 s\n"
     ]
    }
   ],
   "source": [
    "%%time\n",
    "hh_rem = np.mod(atm_data.time, 1e4)\n",
    "hh = (atm_data.time-hh_rem)/1e4\n",
    "mm = np.modf(hh_rem/1e2)[1]\n",
    "ss = np.modf(np.mod(hh_rem, 1e2))[1]\n",
    "ms_rem = np.around(np.modf(hh_rem)[0], 3)\n",
    "gps_seconds = (hh*3600)+(mm*60)+ss+ms_rem\n",
    "gps_ts = atm_data.file_epoch.replace(hour=0, minute=0, second=0, microsecond=0).timestamp() + gps_seconds\n",
    "t = [datetime.datetime.fromtimestamp(ts) for ts in gps_ts]"
   ]
  },
  {
   "cell_type": "code",
   "execution_count": 6,
   "metadata": {},
   "outputs": [],
   "source": [
    "atm_data.calcutc()"
   ]
  },
  {
   "cell_type": "code",
   "execution_count": 9,
   "metadata": {},
   "outputs": [
    {
     "name": "stdout",
     "output_type": "stream",
     "text": [
      "2016-04-19 13:03:00.165000\n",
      "2016-04-19 13:10:26.905000\n"
     ]
    }
   ],
   "source": [
    "print(atm_data.utc_time[0])\n",
    "print(atm_data.utc_time[-1])"
   ]
  },
  {
   "cell_type": "code",
   "execution_count": null,
   "metadata": {},
   "outputs": [],
   "source": []
  }
 ],
 "metadata": {
  "kernelspec": {
   "display_name": "Python 3",
   "language": "python",
   "name": "python3"
  },
  "language_info": {
   "codemirror_mode": {
    "name": "ipython",
    "version": 3
   },
   "file_extension": ".py",
   "mimetype": "text/x-python",
   "name": "python",
   "nbconvert_exporter": "python",
   "pygments_lexer": "ipython3",
   "version": "3.6.5"
  }
 },
 "nbformat": 4,
 "nbformat_minor": 2
}
