{
 "cells": [
  {
   "cell_type": "code",
   "execution_count": 1,
   "metadata": {},
   "outputs": [
    {
     "data": {
      "text/plain": [
       "{'divide': 'warn', 'over': 'warn', 'under': 'ignore', 'invalid': 'warn'}"
      ]
     },
     "execution_count": 1,
     "metadata": {},
     "output_type": "execute_result"
    }
   ],
   "source": [
    "import os\n",
    "import geopandas as gpd\n",
    "import numpy as np\n",
    "from glob import glob\n",
    "from multiprocessing.dummy import Pool as ThreadPool\n",
    "\n",
    "from pySnowRadar import snowradar, picklayers\n",
    "np.seterr(invalid='ignore', divide='ignore')"
   ]
  },
  {
   "cell_type": "code",
   "execution_count": 2,
   "metadata": {},
   "outputs": [],
   "source": [
    "world = gpd.read_file(gpd.datasets.get_path('naturalearth_lowres'))\n",
    "can = world.loc[world['name'] == 'Canada']"
   ]
  },
  {
   "cell_type": "code",
   "execution_count": 3,
   "metadata": {},
   "outputs": [],
   "source": [
    "radar_path = './data/nsidc/'\n",
    "radar_files = [y for x in os.walk(radar_path) for y in glob(os.path.join(x[0], '*.nc'))]\n",
    "land_flag = [can['geometry'].intersects(snowradar.SnowRadar(file, l_case='meta').poly) for file in radar_files]\n",
    "radar_files = [radar_files[i] for i in [i for i, x in enumerate(land_flag) if not x.bool()]]"
   ]
  },
  {
   "cell_type": "code",
   "execution_count": 4,
   "metadata": {},
   "outputs": [],
   "source": [
    "def process_snowradar(file):\n",
    "    print('Processing: ' + file)\n",
    "    radar_dat = snowradar.SnowRadar(radar_files[0], l_case='full')\n",
    "    radar_dat.surf_bin, radar_dat.surface = radar_dat.get_surface()\n",
    "    radar_bounds = radar_dat.get_bounds(5)\n",
    "    radar_sub = radar_dat.data_radar[radar_bounds[1]: radar_bounds[0], :]\n",
    "    radar_dat.calcpulsewidth() \n",
    "    \n",
    "    b_as, b_si = np.apply_along_axis(\n",
    "        picklayers.picklayers, \n",
    "        0, \n",
    "        radar_sub,\n",
    "        radar_dat.n2n,\n",
    "        radar_dat.dfr,\n",
    "        1.238066467117174\n",
    "    )\n",
    "    result_df = gpd.pd.DataFrame({'Lat': radar_dat.lat,\n",
    "                                  'Lon': radar_dat.lon,\n",
    "                                  'b_as': b_as, \n",
    "                                  'b_si': b_si})\n",
    "    return result_df"
   ]
  },
  {
   "cell_type": "code",
   "execution_count": 5,
   "metadata": {},
   "outputs": [],
   "source": [
    "def process_parallel(file, threads=4):\n",
    "    pool = ThreadPool(threads)\n",
    "    results = pool.map(process_snowradar, file)\n",
    "    pool.close()\n",
    "    pool.join()\n",
    "    return results"
   ]
  },
  {
   "cell_type": "code",
   "execution_count": null,
   "metadata": {},
   "outputs": [
    {
     "name": "stdout",
     "output_type": "stream",
     "text": [
      "Processing: ./data/nsidc\\IRSNO1B_20160419_04_001_deconv.ncProcessing: ./data/nsidc\\IRSNO1B_20160419_04_002_deconv.nc\n",
      "Processing: ./data/nsidc\\IRSNO1B_20160419_04_003_deconv.nc\n",
      "\n",
      "Processing: ./data/nsidc\\IRSNO1B_20160419_04_004_deconv.nc\n"
     ]
    }
   ],
   "source": [
    "output = process_parallel(radar_files)"
   ]
  }
 ],
 "metadata": {
  "kernelspec": {
   "display_name": "Python [conda env:py3-pySnowRadar]",
   "language": "python",
   "name": "conda-env-py3-pySnowRadar-py"
  },
  "language_info": {
   "codemirror_mode": {
    "name": "ipython",
    "version": 3
   },
   "file_extension": ".py",
   "mimetype": "text/x-python",
   "name": "python",
   "nbconvert_exporter": "python",
   "pygments_lexer": "ipython3",
   "version": "3.7.2"
  }
 },
 "nbformat": 4,
 "nbformat_minor": 2
}
