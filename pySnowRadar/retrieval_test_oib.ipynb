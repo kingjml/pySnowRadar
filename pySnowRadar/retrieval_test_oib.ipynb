{
 "cells": [
  {
   "cell_type": "markdown",
   "metadata": {},
   "source": [
    "# pySnowRadar Processor\n",
    "\n",
    "Example of using the wavelet process with CRESIS 2-8 GHz snow radar data (MATFILE)\n",
    "\n",
    "Note this approach is still in testing and has not been validated against in situ data."
   ]
  },
  {
   "cell_type": "code",
   "execution_count": null,
   "metadata": {},
   "outputs": [],
   "source": [
    "#pySnowRadar modules\n",
    "from pySnowRadar import snowradar, picklayers\n",
    "\n",
    "#Python stdlib\n",
    "import os\n",
    "import datetime\n",
    "import time\n",
    "\n",
    "#Community packages\n",
    "import numpy as np\n",
    "import matplotlib.pyplot as plt"
   ]
  },
  {
   "cell_type": "code",
   "execution_count": null,
   "metadata": {},
   "outputs": [],
   "source": [
    "density_snow = 0.300 #Density of snow on sea ice; See Alexandrov et al., 2010, The Cryosphere\n",
    "perm_snow = (1 + 0.51 * density_snow) ** 3  #Density to permitivity\n",
    "n_snow = np.sqrt(perm_snow) #Permitivity to refractive index\n",
    "c = 299792458 #Vacuum speed of light"
   ]
  },
  {
   "cell_type": "code",
   "execution_count": null,
   "metadata": {},
   "outputs": [],
   "source": [
    "radar_file = \"./data/sr/Data_20160419_04_010.mat\"\n",
    "radar_dat = snowradar.SnowRadar(radar_file, l_case='full')"
   ]
  },
  {
   "cell_type": "code",
   "execution_count": null,
   "metadata": {},
   "outputs": [],
   "source": [
    "radar_dat.surf_bin, radar_dat.surface = radar_dat.get_surface()\n",
    "radar_bounds = radar_dat.get_bounds(5)\n",
    "radar_sub = radar_dat.data_radar[radar_bounds[1]: radar_bounds[0], :]\n",
    "radar_dat.plot_quicklook(ylim = list(radar_bounds))"
   ]
  },
  {
   "cell_type": "markdown",
   "metadata": {},
   "source": [
    "### Signals stuff"
   ]
  },
  {
   "cell_type": "code",
   "execution_count": null,
   "metadata": {},
   "outputs": [],
   "source": [
    "radar_dat.calcpulsewidth()\n",
    "print(radar_dat.epw)\n",
    "print(radar_dat.n2n)"
   ]
  },
  {
   "cell_type": "markdown",
   "metadata": {},
   "source": [
    "### This applies the picklayer function to every trace"
   ]
  },
  {
   "cell_type": "code",
   "execution_count": null,
   "metadata": {},
   "outputs": [],
   "source": [
    "with np.errstate(invalid='ignore', divide='ignore'):\n",
    "    l_as, l_si = np.apply_along_axis(\n",
    "        picklayers.picklayers, \n",
    "        0, \n",
    "        radar_sub,\n",
    "        radar_dat.n2n,\n",
    "        radar_dat.dfr,\n",
    "        n_snow\n",
    "    )"
   ]
  },
  {
   "cell_type": "code",
   "execution_count": null,
   "metadata": {},
   "outputs": [],
   "source": [
    "snow_depth = (l_si - l_as) * radar_dat.dfr / n_snow"
   ]
  },
  {
   "cell_type": "markdown",
   "metadata": {},
   "source": [
    "# Retrieval output"
   ]
  },
  {
   "cell_type": "code",
   "execution_count": null,
   "metadata": {},
   "outputs": [],
   "source": [
    "N = 5\n",
    "snow_depth_rollin = np.convolve(snow_depth, np.ones((N,))/N, mode='valid')\n",
    "estart = N/2\n",
    "eend = len(snow_depth_rollin)+(N/2)\n",
    "print(\"Max along-track resolution\")\n",
    "print(\"Mean depth (m):\", np.mean(snow_depth))\n",
    "print(\"StDev of  depth (m):\", np.std(snow_depth))\n",
    "print(\"\\n5-bin averaged along-track \")\n",
    "print(\"Mean snow depth (m):\", np.mean(snow_depth_rollin))\n",
    "print(\"StDev of snow depth (m):\", np.std(snow_depth_rollin))\n",
    "\n",
    "fig, ax = plt.subplots(figsize=(14,5))\n",
    "ax.plot(snow_depth)\n",
    "ax.plot(np.arange(estart, eend),snow_depth_rollin, color='r')\n",
    "ax.set_ylabel(\"Snow depth (m)\")\n",
    "ax.set_xlabel(\"Slow time bin number\")\n",
    "ax.legend([\"Individual\",\"5-bin mean\"],loc=\"upper right\")\n",
    "fig.tight_layout();"
   ]
  },
  {
   "cell_type": "code",
   "execution_count": null,
   "metadata": {},
   "outputs": [],
   "source": [
    "fig, ax = plt.subplots(figsize=(15,10))\n",
    "with np.errstate(divide='ignore'):\n",
    "    ax.imshow(20 * np.log10(radar_sub), interpolation='nearest', cmap=\"gist_gray\")\n",
    "ax.plot(l_as, color='b')\n",
    "ax.plot(l_si, color='r')\n",
    "ax.legend([\"A-S\",\"S-I\"],loc=\"upper right\")\n",
    "ax.set_aspect('auto')\n",
    "fig.tight_layout();"
   ]
  },
  {
   "cell_type": "code",
   "execution_count": null,
   "metadata": {},
   "outputs": [],
   "source": [
    "col_idx = np.random.randint(0, radar_sub.shape[1])\n",
    "print(col_idx)\n",
    "fig, ax = plt.subplots(figsize=(14,5))\n",
    "#ax.plot(data_col)\n",
    "with np.errstate(divide='ignore'):\n",
    "    ax.plot(10*np.log10(radar_sub[:,col_idx]), label=None)\n",
    "# Air-Snow picked interface\n",
    "ax.vlines(l_as[col_idx], 0, 1, label='Air-Snow Interface', linestyles='dashed', transform=ax.get_xaxis_transform(), color='r')\n",
    "# Snow-Ice picked interface\n",
    "ax.vlines(l_si[col_idx], 0, 1, label='Snow-Ice Interface', linestyles='dashed', transform=ax.get_xaxis_transform(), color='b')\n",
    "ax.set_xlabel(\"Fast time bin number\")\n",
    "ax.set_ylabel(\"Amplidtude (dB)\")\n",
    "ax.legend(loc=\"upper right\")\n",
    "fig.tight_layout();"
   ]
  }
 ],
 "metadata": {
  "kernelspec": {
   "display_name": "Python 3",
   "language": "python",
   "name": "python3"
  },
  "language_info": {
   "codemirror_mode": {
    "name": "ipython",
    "version": 3
   },
   "file_extension": ".py",
   "mimetype": "text/x-python",
   "name": "python",
   "nbconvert_exporter": "python",
   "pygments_lexer": "ipython3",
   "version": "3.6.7"
  }
 },
 "nbformat": 4,
 "nbformat_minor": 2
}
