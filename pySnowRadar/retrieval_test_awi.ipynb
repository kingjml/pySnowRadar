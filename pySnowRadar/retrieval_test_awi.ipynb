{
 "cells": [
  {
   "cell_type": "markdown",
   "metadata": {},
   "source": [
    "## Wavelet processing with AWI 2-18 GHz SnowRadar\n",
    "Example of using the wavelet process with AWI data. The range resolution is quite a bit higher due  \n",
    "to the larger bandwidth over the 2-8 GHz legacy SnowRadar.\n",
    "\n",
    "Note this approach is still in testing and has not been validated against in situ data."
   ]
  },
  {
   "cell_type": "code",
   "execution_count": null,
   "metadata": {},
   "outputs": [],
   "source": [
    "#pySnowRadar modules\n",
    "from pySnowRadar import snowradar, picklayers\n",
    "\n",
    "#Python stdlib\n",
    "import os\n",
    "import datetime\n",
    "import time\n",
    "\n",
    "#Community packages\n",
    "import numpy as np\n",
    "np.seterr(divide='ignore') # suppress divide-by-zero warnings in below plots\n",
    "import matplotlib.pyplot as plt\n",
    "import h5py\n",
    "from scipy import signal"
   ]
  },
  {
   "cell_type": "code",
   "execution_count": null,
   "metadata": {},
   "outputs": [],
   "source": [
    "density_snow = 0.300 #Density of snow on sea ice; See Alexandrov et al., 2010, The Cryosphere\n",
    "perm_snow = (1 + 0.51 * density_snow) ** 3  #Density to permitivity\n",
    "perm_ice = 3.15\n",
    "n_snow = np.sqrt(perm_snow) #Permitivity to refractive index\n",
    "n_ice = np.sqrt(perm_ice)\n",
    "c = 299792458 #Vacuum speed of light"
   ]
  },
  {
   "cell_type": "code",
   "execution_count": null,
   "metadata": {},
   "outputs": [],
   "source": [
    "radar_file = \"./data/awi/Data_20170410_01_006.mat\"\n",
    "radar_dat = snowradar.SnowRadar(radar_file, l_case='full')"
   ]
  },
  {
   "cell_type": "markdown",
   "metadata": {},
   "source": [
    "Estimate the pulse width"
   ]
  },
  {
   "cell_type": "code",
   "execution_count": null,
   "metadata": {},
   "outputs": [],
   "source": [
    "radar_dat.calcpulsewidth()\n",
    "print(\"Equivalent pulse width %f\" % (radar_dat.epw))\n",
    "print(\"Null-to-null pulse width %f\" % (radar_dat.n2n))"
   ]
  },
  {
   "cell_type": "markdown",
   "metadata": {},
   "source": [
    "## Draft surface elevation compensation\n",
    "\n",
    "[see source code](https://github.com/kingjml/pyWavelet/blob/7b311a22fd695ec228f8b0524bc5daedf563daa8/pyWavelet/snowradar.py#L257)\n",
    "\n",
    "This only works if the surface variable is available at source\n",
    "In the future we need to write a module to produce the surface if missing\n",
    "\n",
    "Also need to think of an alternative way to retain `elev_axis` instead of just dumping it from `elevation_compensation()`"
   ]
  },
  {
   "cell_type": "code",
   "execution_count": null,
   "metadata": {},
   "outputs": [],
   "source": [
    "if not radar_dat.elev_corrected: #Check if its corrected\n",
    "    radar_dat.data_radar, radar_dat.elev_axis = radar_dat.elevation_compensation() # Compensate for aircraft atitude\n",
    "    radar_dat.surf_bin, x = radar_dat.get_surface() # Retrack the surface\n",
    "    radar_dat.elev_corrected = True"
   ]
  },
  {
   "cell_type": "code",
   "execution_count": null,
   "metadata": {},
   "outputs": [],
   "source": [
    "radar_dat.plot_quicklook(ylim = list(radar_dat.get_bounds(5)))"
   ]
  },
  {
   "cell_type": "markdown",
   "metadata": {},
   "source": [
    "The current AWI data is unfiltered so we apply a boxcar window to knock down the noise a bit  \n",
    "Window length is arbitrary but maintain a short scale to avoid smoothing actual variability"
   ]
  },
  {
   "cell_type": "code",
   "execution_count": null,
   "metadata": {},
   "outputs": [],
   "source": [
    "def RadarWindow(x,window_len=11):\n",
    "    return np.convolve(\n",
    "        signal.windows.boxcar(window_len) / signal.windows.boxcar(window_len).sum(),\n",
    "        x,\n",
    "        mode='valid'\n",
    "    )"
   ]
  },
  {
   "cell_type": "code",
   "execution_count": null,
   "metadata": {},
   "outputs": [],
   "source": [
    "data_bound = radar_dat.get_bounds(5)\n",
    "radar_sub = radar_dat.data_radar[data_bound[1]:data_bound[0],0:300]\n",
    "radar_1d_smooth = np.apply_along_axis(RadarWindow, 0, radar_sub, 5)\n",
    "radar_2d_smooth = signal.medfilt2d(radar_sub, kernel_size=5)"
   ]
  },
  {
   "cell_type": "markdown",
   "metadata": {},
   "source": [
    "A-Scope example of the raw and smoothed radar traces"
   ]
  },
  {
   "cell_type": "code",
   "execution_count": null,
   "metadata": {},
   "outputs": [],
   "source": [
    "col_idx = 150\n",
    "fig, ax = plt.subplots(figsize=(12,8))\n",
    "#ax.plot(data_col)\n",
    "ax.plot(10*np.log10(radar_sub[:,1]))\n",
    "ax.plot(10*np.log10(radar_1d_smooth[:,1]))\n",
    "ax.plot(10*np.log10(radar_2d_smooth[:,1]))\n",
    "ax.legend(('Raw', '1D smooth', '2D smooth'))\n",
    "fig.tight_layout();"
   ]
  },
  {
   "cell_type": "code",
   "execution_count": null,
   "metadata": {},
   "outputs": [],
   "source": [
    "vis_max = 80\n",
    "vis_min = 0\n",
    "\n",
    "fig, ax = plt.subplots(3,1,figsize=(15,10))\n",
    "ax[0].set_title(\"Raw\")\n",
    "ax[0].imshow(10 * np.log10(radar_sub), interpolation='nearest', cmap=\"gist_gray\", vmin=vis_min, vmax=vis_max)\n",
    "ax[0].set_aspect('auto')\n",
    "#ax[0].set_ylim([ymax, ymin])\n",
    "ax[1].set_ylabel(\"Fast time bin number\")\n",
    "ax[1].set_title(\"1-d Boxcar convolution (n=10)\")\n",
    "ax[1].imshow(10 * np.log10(radar_1d_smooth), interpolation='nearest', cmap=\"gist_gray\", vmin=vis_min, vmax=vis_max)\n",
    "ax[1].set_aspect('auto')\n",
    "#ax[1].set_ylim([ymax, ymin])\n",
    "ax[2].set_title(\"2-d median window (n=[10,5])\")\n",
    "ax[2].imshow(10 * np.log10(radar_2d_smooth), interpolation='nearest', cmap=\"gist_gray\", vmin=vis_min, vmax=vis_max)\n",
    "ax[2].set_aspect('auto')\n",
    "#ax[2].set_ylim([ymax, ymin])\n",
    "ax[2].set_xlabel(\"Slow time bin number\")\n",
    "fig.tight_layout();"
   ]
  },
  {
   "cell_type": "markdown",
   "metadata": {},
   "source": [
    "Apply the wavelet picker to each radar trace to identify the air-snow and snow-ice interfaces   \n",
    "Numpy applies a serial process (slow)  \n",
    "In the future this makes sense to distribute over N cores\n",
    "\n",
    "Then calculate the snow depth using an assumption of the refractive index \n",
    "The air-snow picks seem to perform well but there is a lot of noise in the snow-ice interface  \n",
    "Note the standard deviation of the snow depth is ~3/4 of the mean depth. This worries me a bit but not knowing the environment I can't draw a conclusion.   \n",
    "The result of much more reasonable when averaged over 5 or more bins.  "
   ]
  },
  {
   "cell_type": "code",
   "execution_count": null,
   "metadata": {},
   "outputs": [],
   "source": [
    "%time l_as, l_si = np.apply_along_axis(picklayers.picklayers, 0, radar_sub, radar_dat.n2n, radar_dat.dfr, n_snow)"
   ]
  },
  {
   "cell_type": "code",
   "execution_count": null,
   "metadata": {},
   "outputs": [],
   "source": [
    "def rolling_window(a, window):\n",
    "    shape = a.shape[:-1] + (a.shape[-1] - window + 1, window)\n",
    "    strides = a.strides + (a.strides[-1],)\n",
    "    return np.lib.stride_tricks.as_strided(a, shape=shape, strides=strides)"
   ]
  },
  {
   "cell_type": "code",
   "execution_count": null,
   "metadata": {},
   "outputs": [],
   "source": [
    "N = 5\n",
    "si_rolling_min = np.min(rolling_window(l_si, N), -1)\n",
    "si_rolling_max = np.max(rolling_window(l_si, N), -1)\n",
    "si_rolling_mean = np.mean(rolling_window(l_si, N), -1)"
   ]
  },
  {
   "cell_type": "code",
   "execution_count": null,
   "metadata": {},
   "outputs": [],
   "source": [
    "snow_depth = (l_si - l_as) * radar_dat.dfr / n_snow\n",
    "snow_depth_smooth = np.convolve(snow_depth, np.ones((N,))/N, mode='valid')\n",
    "estart = N/2\n",
    "eend = len(snow_depth_smooth)+(N/2)\n",
    "print(\"Max along-track resolution\")\n",
    "print(\"Mean depth (m):\", np.mean(snow_depth))\n",
    "print(\"StDev of  depth (m):\", np.std(snow_depth))\n",
    "print(\"\\n5-bin averaged along-track \")\n",
    "print(\"Mean snow depth (m):\", np.mean(snow_depth_smooth))\n",
    "print(\"StDev of snow depth (m):\", np.std(snow_depth_smooth))\n",
    "\n",
    "fig, ax = plt.subplots(figsize=(14,5))\n",
    "ax.plot(snow_depth)\n",
    "ax.plot(np.arange(estart, eend),snow_depth_smooth, color='r')\n",
    "ax.set_ylabel(\"Snow depth (m)\")\n",
    "ax.set_xlabel(\"Slow time bin number\")\n",
    "ax.legend([\"Individual\",\"5-bin mean\"],loc=\"upper right\")\n",
    "fig.tight_layout();"
   ]
  },
  {
   "cell_type": "code",
   "execution_count": null,
   "metadata": {},
   "outputs": [],
   "source": [
    "vis_min = -1\n",
    "vis_max = 80\n",
    "fig, ax = plt.subplots(figsize=(14,5))\n",
    "ax.imshow(10 * np.log10(radar_sub), interpolation='none', cmap=\"gist_gray\", vmin=vis_min, vmax=vis_max)\n",
    "ax.plot(l_as, color='b')\n",
    "#ax.plot(l_si, color='y')\n",
    "ax.plot(si_rolling_max, color='r')\n",
    "ax.set_ylabel(\"Fast time bin\")\n",
    "ax.set_xlabel(\"Along track bin\")\n",
    "ax.legend([\"A-S\",\"S-I\"],loc=\"upper right\")\n",
    "ax.set_ylim([740, 600])\n",
    "ax.set_aspect('auto')\n",
    "fig.tight_layout();"
   ]
  },
  {
   "cell_type": "markdown",
   "metadata": {},
   "source": [
    "Sanity check the interface picks."
   ]
  },
  {
   "cell_type": "code",
   "execution_count": null,
   "metadata": {},
   "outputs": [],
   "source": [
    "col_idx = np.random.randint(0, radar_1d_smooth.shape[1])\n",
    "print(col_idx)\n",
    "fig, ax = plt.subplots(figsize=(14,5))\n",
    "#ax.plot(data_col)\n",
    "ax.plot(10*np.log10(radar_1d_smooth[:,col_idx]), label=None)\n",
    "# Air-Snow picked interface\n",
    "ax.vlines(l_as[col_idx], 0, 1, label='Air-Snow Interface', linestyles='dashed', transform=ax.get_xaxis_transform(), color='r')\n",
    "# Snow-Ice picked interface\n",
    "ax.vlines(l_si[col_idx], 0, 1, label='Snow-Ice Interface', linestyles='dashed', transform=ax.get_xaxis_transform(), color='b')\n",
    "ax.set_xlabel(\"Fast time bin number\")\n",
    "ax.set_ylabel(\"Amplidtude (dB)\")\n",
    "ax.legend(loc=\"upper right\")\n",
    "#ax.set_xlim([ymin, ymax])\n",
    "fig.tight_layout();"
   ]
  }
 ],
 "metadata": {
  "kernelspec": {
   "display_name": "Python 3",
   "language": "python",
   "name": "python3"
  },
  "language_info": {
   "codemirror_mode": {
    "name": "ipython",
    "version": 3
   },
   "file_extension": ".py",
   "mimetype": "text/x-python",
   "name": "python",
   "nbconvert_exporter": "python",
   "pygments_lexer": "ipython3",
   "version": "3.6.7"
  }
 },
 "nbformat": 4,
 "nbformat_minor": 2
}
